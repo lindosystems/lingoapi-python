{
 "cells": [
  {
   "cell_type": "code",
   "execution_count": null,
   "id": "59d9f92b",
   "metadata": {
    "scrolled": false
   },
   "outputs": [],
   "source": [
    "# Run this cell to download dependencies\n",
    "%pip install lingo_api==19.0.6\n",
    "%pip install pandas\n",
    "%pip install plotly\n",
    "%pip install geopy"
   ]
  },
  {
   "cell_type": "code",
   "execution_count": 7,
   "id": "ec8ad192",
   "metadata": {},
   "outputs": [],
   "source": [
    "import lingo_api as lingo\n",
    "import numpy as np\n",
    "import pandas as pd\n",
    "import plotly.graph_objects as go\n",
    "from geopy import distance"
   ]
  },
  {
   "cell_type": "code",
   "execution_count": 54,
   "id": "55b1c0d3",
   "metadata": {},
   "outputs": [],
   "source": [
    "# TSP Callback\n",
    "# state = 1: The LINGO model has just added new subtours to the cuts\n",
    "# state = 2: The model has been solved\n",
    "# state = 0: Working on solving the submodel or finding new cuts\n",
    "#\n",
    "#\n",
    "def cbSolver(pEnv, nReserved, uData):\n",
    "    state   = np.array([-1.0], dtype=np.double)\n",
    "    errorcode = lingo.pyLSgetCallbackVarPrimalLng(pEnv, uData[\"Model_State\"], state)\n",
    "    \n",
    "    if state[0] == 1:\n",
    "\n",
    "        newTours   = np.array([-1.0], dtype=np.double)\n",
    "        totalTours = np.array([-1.0], dtype=np.double)\n",
    "        kurTime = np.array([-1.0], dtype=np.double)\n",
    "        \n",
    "        errorcode = lingo.pyLSgetCallbackVarPrimalLng(pEnv, uData[\"New_Tours\"], newTours)\n",
    "        errorcode = lingo.pyLSgetCallbackVarPrimalLng(pEnv, uData[\"Total_Tours\"], totalTours)\n",
    "        errorcode = lingo.pyLSgetCallbackVarPrimalLng(pEnv, uData[\"Time\"], kurTime)\n",
    "        \n",
    "        print(f\"Total Cuts: {int(totalTours[0]):-5} \\t New Cuts: {int(newTours[0]):-5} \\t Time Used: {kurTime[0]:-5.4f}\")\n",
    "    \n",
    "    elif state[0] == 2 and uData[\"Solve_Printed\"]==False:\n",
    "        uData[\"Solve_Printed\"] = True\n",
    "          \n",
    "        solved     = np.array([-1.0], dtype=np.double)\n",
    "        newTours   = np.array([-1.0], dtype=np.double)\n",
    "        totalTours = np.array([-1.0], dtype=np.double)\n",
    "        kurTime    = np.array([-1.0], dtype=np.double)\n",
    "        \n",
    "        errorcode = lingo.pyLSgetCallbackVarPrimalLng(pEnv, uData[\"SOLVED\"], solved)\n",
    "        errorcode = lingo.pyLSgetCallbackVarPrimalLng(pEnv, uData[\"New_Tours\"], newTours)\n",
    "        errorcode = lingo.pyLSgetCallbackVarPrimalLng(pEnv, uData[\"Total_Tours\"], totalTours)\n",
    "        errorcode = lingo.pyLSgetCallbackVarPrimalLng(pEnv, uData[\"Time\"], kurTime)\n",
    "\n",
    "        if solved[0] == 0:\n",
    "            printStr = f\"TSP Solved in {kurTime[0]:.4f} seconds\"\n",
    "        else:\n",
    "            printStr = f\"TSP was unable to be solved before running out of cuts\"\n",
    "        print(\"\\n=======================================================================================\")\n",
    "        print(printStr)\n",
    "\n",
    "    else:\n",
    "        pass\n",
    "    return 0\n",
    "\n",
    "def cbError(pEnv, uData, nErrorCode, errorText):\n",
    "    # A exception will be displayed if this callback is called\n",
    "    raise(nErrorCode, errorText)"
   ]
  },
  {
   "cell_type": "markdown",
   "id": "a7e05a11",
   "metadata": {},
   "source": [
    "## LINGO - Python TSP\n",
    "\n",
    "This TSP model is implemented using Dantzig, Fulkerson, Johnson (DFJ) subtour elimination constraints with the maximum number of cuts each iteration controlled by the user. The data for this model comes from US_Tour.csv, however the data can be swaped out with another data set with the columns; city, latitude, longitude. The LINGO model is included in the same directory as this jupyter notebook.\n",
    "\n",
    "There are seven LINGO pointers that this model uses to send and recive data that must be set/allocated in Python.\n",
    "\n",
    "- **Pointer1**: *MAXTOUR* a model parameter that sets the maximum number of subtours that can be added to the model.\n",
    "- **Pointer2**: *MAXADD* a model parameter that sets the maximum number of subtours that can be added at each iteration.\n",
    "- **Pointer3**: *CITY* a model set passed as a NumPy array of city names that will be visited on the tour.\n",
    "- **Pointer4**: *LATI* a model parameter passed as a NumPy array of latitudes of each city on the tour.\n",
    "- **Pointer5**: *LNGT* a model parameter passed as a NumPy array of longitudes of each city on the tour.\n",
    "- **Pointer6**: *Y* a model variabel matrix passed as a NumPy array of size numberOfCities*numberOfCities where $Y_{i,j} = 1$ if path form city $i$ to city $j$ is used $0$ otherwise.\n",
    "- **Pointer7**: *DIST* a model parameter for of distance between node $i$ and $j$. To allocate memmory for this return data create an empty NumPy array of size numberOfCities*numberOfCities.\n",
    "- **Pointer8**: *SOLVED* a model variable that is is $0$ if the TSP was solved $1$ otherwise."
   ]
  },
  {
   "cell_type": "code",
   "execution_count": 57,
   "id": "3ee75447",
   "metadata": {},
   "outputs": [],
   "source": [
    "# csv data\n",
    "df = pd.read_csv(\"US_Tour.csv\")\n",
    "# model \n",
    "lngFile = \"tspLoop.lng\"\n",
    "\n",
    "# data for pointres\n",
    "CITY = df[\"city\"].values\n",
    "LATI = df[\"lati\"].values  \n",
    "LNGT = df[\"lngt\"].values\n",
    "\n",
    "        \n",
    "MAXTOUR = 50\n",
    "MAXADD  = 10\n",
    "numCities = len(CITY)\n",
    "\n",
    "Y = np.empty(numCities*numCities)\n",
    "DIST = np.empty(numCities*numCities)\n",
    "SOLVED = np.array([-1.0])\n",
    "\n",
    "# Callback Data\n",
    "uData =  {\"Prefix\":\"Lingo API\",\n",
    "          \"Model_State\":np.array([\"STATE\"],dtype=\"|S102\"),\n",
    "          \"New_Tours\":np.array([\"ADDED\"],dtype=\"|S102\"),\n",
    "          \"Total_Tours\":np.array([\"TOTALTOURS\"],dtype=\"|S102\"),\n",
    "          \"Time\":np.array([\"KURTIME\"],dtype=\"|S102\"),\n",
    "          \"SOLVED\":np.array([\"SOLVED\"],dtype=\"|S102\"),\n",
    "          \"Solve_Printed\":False,\n",
    "}\n"
   ]
  },
  {
   "cell_type": "code",
   "execution_count": 58,
   "id": "dabb858c",
   "metadata": {
    "scrolled": false
   },
   "outputs": [
    {
     "name": "stdout",
     "output_type": "stream",
     "text": [
      "Total Cuts:    10 \t New Cuts:    10 \t Time Used: 0.0960\n",
      "Total Cuts:    20 \t New Cuts:    10 \t Time Used: 0.1760\n",
      "Total Cuts:    30 \t New Cuts:    10 \t Time Used: 0.2470\n",
      "Total Cuts:    39 \t New Cuts:     9 \t Time Used: 0.3880\n",
      "Total Cuts:    43 \t New Cuts:     4 \t Time Used: 0.4660\n",
      "Total Cuts:    44 \t New Cuts:     1 \t Time Used: 0.5830\n",
      "\n",
      "=======================================================================================\n",
      "TSP Solved in 0.5830 seconds\n"
     ]
    }
   ],
   "source": [
    "# Create a model object\n",
    "model = lingo.Model(lngFile)\n",
    "\n",
    "# set all pointers in the order that they appear in tspLoop.lng\n",
    "model.set_pointer(\"Pointer1\",MAXTOUR,lingo.PARAM)\n",
    "model.set_pointer(\"Pointer2\",MAXADD,lingo.PARAM)\n",
    "model.set_pointer(\"Pointer3\",CITY,lingo.SET)\n",
    "model.set_pointer(\"Pointer4\",LATI,lingo.PARAM)\n",
    "model.set_pointer(\"Pointer5\",LNGT,lingo.PARAM)\n",
    "model.set_pointer(\"Pointer6\",Y,lingo.VAR)\n",
    "model.set_pointer(\"Pointer7\",DIST,lingo.PARAM)\n",
    "model.set_pointer(\"Pointer8\",SOLVED,lingo.VAR)\n",
    "\n",
    "# set all callback functions and user data\n",
    "model.set_cbSolver(cbSolver)\n",
    "model.set_uData(uData)\n",
    "\n",
    "# solve the model\n",
    "lingo.solve(model)\n",
    "\n",
    "# Fix Data\n",
    "Y = np.reshape(Y,(numCities,numCities))\n",
    "DIST = np.reshape(DIST,(numCities,numCities))"
   ]
  },
  {
   "cell_type": "code",
   "execution_count": 59,
   "id": "94319093",
   "metadata": {
    "scrolled": false
   },
   "outputs": [],
   "source": [
    "# Orginaize data to be ploted\n",
    "j_map = np.zeros(numCities, dtype=np.int32)\n",
    "\n",
    "\n",
    "pos = 0\n",
    "for ij, val in np.ndenumerate(Y):\n",
    "    if val == 1:\n",
    "        i = ij[0]\n",
    "        j = ij[1]\n",
    "        j_map[pos] = j\n",
    "        pos += 1 \n",
    "        \n",
    "entry_pos = 0\n",
    "lon_sorted = np.zeros(numCities)\n",
    "lat_sorted = np.zeros(numCities)\n",
    "city_sorted = np.empty(numCities, dtype=object)\n",
    "sorted_indx = np.zeros(numCities,dtype=int)\n",
    "\n",
    "lon_sorted[entry_pos] = LNGT[0]\n",
    "lat_sorted[entry_pos] = LATI[0]\n",
    "city_sorted[0] = CITY[0]\n",
    "sorted_indx[0] = 0\n",
    "\n",
    "\n",
    "for i in range(1,len(j_map)-1):\n",
    "    lon_sorted[i] = LNGT[j_map[entry_pos]]\n",
    "    lat_sorted[i] = LATI[j_map[entry_pos]]\n",
    "    city_sorted[i] = CITY[j_map[entry_pos]]\n",
    "    sorted_indx[i] = j_map[entry_pos]\n",
    "    entry_pos = j_map[entry_pos]\n",
    "    \n",
    "lon_sorted[-1] = LNGT[0]\n",
    "lat_sorted[-1] = LATI[0]\n",
    "city_sorted[-1] = CITY[0]\n",
    "sorted_indx[-1] = 0"
   ]
  },
  {
   "cell_type": "code",
   "execution_count": 60,
   "id": "af141fcb",
   "metadata": {
    "scrolled": true
   },
   "outputs": [
    {
     "data": {
      "text/plain": [
       "array([0.])"
      ]
     },
     "execution_count": 60,
     "metadata": {},
     "output_type": "execute_result"
    }
   ],
   "source": [
    "SOLVED"
   ]
  },
  {
   "cell_type": "code",
   "execution_count": 61,
   "id": "c448701d",
   "metadata": {},
   "outputs": [
    {
     "data": {
      "application/vnd.plotly.v1+json": {
       "config": {
        "plotlyServerURL": "https://plot.ly"
       },
       "data": [
        {
         "lat": [
          48.8,
          40.75,
          39.7392,
          39.3197,
          38.627,
          40.6697,
          41.8781,
          44.98,
          48.5667,
          45,
          42.4167,
          40.4406,
          45,
          46.9,
          40.7128,
          39.9526,
          25.7617,
          25.1066,
          30.3833,
          32.7767,
          29.7604,
          29.3,
          25.9,
          29.4241,
          29.3667,
          31.8,
          32.2217,
          33.4833,
          36.1667,
          32.7333,
          33.8197,
          34.0522,
          36.77,
          37.6167,
          37.7297,
          45.5997,
          48.8
         ],
         "lon": [
          -122.3833,
          -111.8833,
          -104.9903,
          -94.72,
          -90.1994,
          -89.68,
          -87.6298,
          -93.2519,
          -93.3833,
          -84.08,
          -83.0167,
          -79.9959,
          -73.15,
          -68.0167,
          -74.0059,
          -75.1652,
          -80.1918,
          -80.43,
          -84.3667,
          -96.797,
          -95.3698,
          -94.8,
          -97.4333,
          -98.4936,
          -100.7833,
          -106.4,
          -110.9258,
          -112.0667,
          -115.2,
          -117.1667,
          -118.15,
          -118.2428,
          -119.72,
          -122.3833,
          -122.22,
          -122.5997,
          -122.3833
         ],
         "marker": {
          "color": "red",
          "size": 10
         },
         "mode": "markers+lines",
         "text": [
          "Bellingham",
          "Salt_Lake_City",
          "Denver",
          "KansasCity",
          "StLouis",
          "Peoria",
          "Chicago",
          "Minneapolis",
          "Internat_Falls",
          "AtlantaMI",
          "Detroit",
          "Pittsburgh",
          "NEWPTVT",
          "CaribouME",
          "NewYorkCity",
          "Philadelphia",
          "Miami",
          "KeyLargo",
          "Tallahassee",
          "Dallas",
          "Houston",
          "Galveston",
          "BrownsvilleTX",
          "SanAntnnio",
          "DelRio",
          "ElPaso",
          "Tucson",
          "Phoenix",
          "LasVegas",
          "SanDiego",
          "LongBeach",
          "Los_Angeles",
          "Fresno",
          "SanFran",
          "Oakland",
          "Portland",
          "Bellingham"
         ],
         "type": "scattermapbox"
        }
       ],
       "layout": {
        "mapbox": {
         "center": {
          "lat": 39.5,
          "lon": -98.35
         },
         "style": "stamen-terrain",
         "zoom": 3
        },
        "margin": {
         "b": 0,
         "l": 0,
         "r": 0,
         "t": 0
        },
        "template": {
         "data": {
          "bar": [
           {
            "error_x": {
             "color": "#2a3f5f"
            },
            "error_y": {
             "color": "#2a3f5f"
            },
            "marker": {
             "line": {
              "color": "#E5ECF6",
              "width": 0.5
             },
             "pattern": {
              "fillmode": "overlay",
              "size": 10,
              "solidity": 0.2
             }
            },
            "type": "bar"
           }
          ],
          "barpolar": [
           {
            "marker": {
             "line": {
              "color": "#E5ECF6",
              "width": 0.5
             },
             "pattern": {
              "fillmode": "overlay",
              "size": 10,
              "solidity": 0.2
             }
            },
            "type": "barpolar"
           }
          ],
          "carpet": [
           {
            "aaxis": {
             "endlinecolor": "#2a3f5f",
             "gridcolor": "white",
             "linecolor": "white",
             "minorgridcolor": "white",
             "startlinecolor": "#2a3f5f"
            },
            "baxis": {
             "endlinecolor": "#2a3f5f",
             "gridcolor": "white",
             "linecolor": "white",
             "minorgridcolor": "white",
             "startlinecolor": "#2a3f5f"
            },
            "type": "carpet"
           }
          ],
          "choropleth": [
           {
            "colorbar": {
             "outlinewidth": 0,
             "ticks": ""
            },
            "type": "choropleth"
           }
          ],
          "contour": [
           {
            "colorbar": {
             "outlinewidth": 0,
             "ticks": ""
            },
            "colorscale": [
             [
              0,
              "#0d0887"
             ],
             [
              0.1111111111111111,
              "#46039f"
             ],
             [
              0.2222222222222222,
              "#7201a8"
             ],
             [
              0.3333333333333333,
              "#9c179e"
             ],
             [
              0.4444444444444444,
              "#bd3786"
             ],
             [
              0.5555555555555556,
              "#d8576b"
             ],
             [
              0.6666666666666666,
              "#ed7953"
             ],
             [
              0.7777777777777778,
              "#fb9f3a"
             ],
             [
              0.8888888888888888,
              "#fdca26"
             ],
             [
              1,
              "#f0f921"
             ]
            ],
            "type": "contour"
           }
          ],
          "contourcarpet": [
           {
            "colorbar": {
             "outlinewidth": 0,
             "ticks": ""
            },
            "type": "contourcarpet"
           }
          ],
          "heatmap": [
           {
            "colorbar": {
             "outlinewidth": 0,
             "ticks": ""
            },
            "colorscale": [
             [
              0,
              "#0d0887"
             ],
             [
              0.1111111111111111,
              "#46039f"
             ],
             [
              0.2222222222222222,
              "#7201a8"
             ],
             [
              0.3333333333333333,
              "#9c179e"
             ],
             [
              0.4444444444444444,
              "#bd3786"
             ],
             [
              0.5555555555555556,
              "#d8576b"
             ],
             [
              0.6666666666666666,
              "#ed7953"
             ],
             [
              0.7777777777777778,
              "#fb9f3a"
             ],
             [
              0.8888888888888888,
              "#fdca26"
             ],
             [
              1,
              "#f0f921"
             ]
            ],
            "type": "heatmap"
           }
          ],
          "heatmapgl": [
           {
            "colorbar": {
             "outlinewidth": 0,
             "ticks": ""
            },
            "colorscale": [
             [
              0,
              "#0d0887"
             ],
             [
              0.1111111111111111,
              "#46039f"
             ],
             [
              0.2222222222222222,
              "#7201a8"
             ],
             [
              0.3333333333333333,
              "#9c179e"
             ],
             [
              0.4444444444444444,
              "#bd3786"
             ],
             [
              0.5555555555555556,
              "#d8576b"
             ],
             [
              0.6666666666666666,
              "#ed7953"
             ],
             [
              0.7777777777777778,
              "#fb9f3a"
             ],
             [
              0.8888888888888888,
              "#fdca26"
             ],
             [
              1,
              "#f0f921"
             ]
            ],
            "type": "heatmapgl"
           }
          ],
          "histogram": [
           {
            "marker": {
             "pattern": {
              "fillmode": "overlay",
              "size": 10,
              "solidity": 0.2
             }
            },
            "type": "histogram"
           }
          ],
          "histogram2d": [
           {
            "colorbar": {
             "outlinewidth": 0,
             "ticks": ""
            },
            "colorscale": [
             [
              0,
              "#0d0887"
             ],
             [
              0.1111111111111111,
              "#46039f"
             ],
             [
              0.2222222222222222,
              "#7201a8"
             ],
             [
              0.3333333333333333,
              "#9c179e"
             ],
             [
              0.4444444444444444,
              "#bd3786"
             ],
             [
              0.5555555555555556,
              "#d8576b"
             ],
             [
              0.6666666666666666,
              "#ed7953"
             ],
             [
              0.7777777777777778,
              "#fb9f3a"
             ],
             [
              0.8888888888888888,
              "#fdca26"
             ],
             [
              1,
              "#f0f921"
             ]
            ],
            "type": "histogram2d"
           }
          ],
          "histogram2dcontour": [
           {
            "colorbar": {
             "outlinewidth": 0,
             "ticks": ""
            },
            "colorscale": [
             [
              0,
              "#0d0887"
             ],
             [
              0.1111111111111111,
              "#46039f"
             ],
             [
              0.2222222222222222,
              "#7201a8"
             ],
             [
              0.3333333333333333,
              "#9c179e"
             ],
             [
              0.4444444444444444,
              "#bd3786"
             ],
             [
              0.5555555555555556,
              "#d8576b"
             ],
             [
              0.6666666666666666,
              "#ed7953"
             ],
             [
              0.7777777777777778,
              "#fb9f3a"
             ],
             [
              0.8888888888888888,
              "#fdca26"
             ],
             [
              1,
              "#f0f921"
             ]
            ],
            "type": "histogram2dcontour"
           }
          ],
          "mesh3d": [
           {
            "colorbar": {
             "outlinewidth": 0,
             "ticks": ""
            },
            "type": "mesh3d"
           }
          ],
          "parcoords": [
           {
            "line": {
             "colorbar": {
              "outlinewidth": 0,
              "ticks": ""
             }
            },
            "type": "parcoords"
           }
          ],
          "pie": [
           {
            "automargin": true,
            "type": "pie"
           }
          ],
          "scatter": [
           {
            "fillpattern": {
             "fillmode": "overlay",
             "size": 10,
             "solidity": 0.2
            },
            "type": "scatter"
           }
          ],
          "scatter3d": [
           {
            "line": {
             "colorbar": {
              "outlinewidth": 0,
              "ticks": ""
             }
            },
            "marker": {
             "colorbar": {
              "outlinewidth": 0,
              "ticks": ""
             }
            },
            "type": "scatter3d"
           }
          ],
          "scattercarpet": [
           {
            "marker": {
             "colorbar": {
              "outlinewidth": 0,
              "ticks": ""
             }
            },
            "type": "scattercarpet"
           }
          ],
          "scattergeo": [
           {
            "marker": {
             "colorbar": {
              "outlinewidth": 0,
              "ticks": ""
             }
            },
            "type": "scattergeo"
           }
          ],
          "scattergl": [
           {
            "marker": {
             "colorbar": {
              "outlinewidth": 0,
              "ticks": ""
             }
            },
            "type": "scattergl"
           }
          ],
          "scattermapbox": [
           {
            "marker": {
             "colorbar": {
              "outlinewidth": 0,
              "ticks": ""
             }
            },
            "type": "scattermapbox"
           }
          ],
          "scatterpolar": [
           {
            "marker": {
             "colorbar": {
              "outlinewidth": 0,
              "ticks": ""
             }
            },
            "type": "scatterpolar"
           }
          ],
          "scatterpolargl": [
           {
            "marker": {
             "colorbar": {
              "outlinewidth": 0,
              "ticks": ""
             }
            },
            "type": "scatterpolargl"
           }
          ],
          "scatterternary": [
           {
            "marker": {
             "colorbar": {
              "outlinewidth": 0,
              "ticks": ""
             }
            },
            "type": "scatterternary"
           }
          ],
          "surface": [
           {
            "colorbar": {
             "outlinewidth": 0,
             "ticks": ""
            },
            "colorscale": [
             [
              0,
              "#0d0887"
             ],
             [
              0.1111111111111111,
              "#46039f"
             ],
             [
              0.2222222222222222,
              "#7201a8"
             ],
             [
              0.3333333333333333,
              "#9c179e"
             ],
             [
              0.4444444444444444,
              "#bd3786"
             ],
             [
              0.5555555555555556,
              "#d8576b"
             ],
             [
              0.6666666666666666,
              "#ed7953"
             ],
             [
              0.7777777777777778,
              "#fb9f3a"
             ],
             [
              0.8888888888888888,
              "#fdca26"
             ],
             [
              1,
              "#f0f921"
             ]
            ],
            "type": "surface"
           }
          ],
          "table": [
           {
            "cells": {
             "fill": {
              "color": "#EBF0F8"
             },
             "line": {
              "color": "white"
             }
            },
            "header": {
             "fill": {
              "color": "#C8D4E3"
             },
             "line": {
              "color": "white"
             }
            },
            "type": "table"
           }
          ]
         },
         "layout": {
          "annotationdefaults": {
           "arrowcolor": "#2a3f5f",
           "arrowhead": 0,
           "arrowwidth": 1
          },
          "autotypenumbers": "strict",
          "coloraxis": {
           "colorbar": {
            "outlinewidth": 0,
            "ticks": ""
           }
          },
          "colorscale": {
           "diverging": [
            [
             0,
             "#8e0152"
            ],
            [
             0.1,
             "#c51b7d"
            ],
            [
             0.2,
             "#de77ae"
            ],
            [
             0.3,
             "#f1b6da"
            ],
            [
             0.4,
             "#fde0ef"
            ],
            [
             0.5,
             "#f7f7f7"
            ],
            [
             0.6,
             "#e6f5d0"
            ],
            [
             0.7,
             "#b8e186"
            ],
            [
             0.8,
             "#7fbc41"
            ],
            [
             0.9,
             "#4d9221"
            ],
            [
             1,
             "#276419"
            ]
           ],
           "sequential": [
            [
             0,
             "#0d0887"
            ],
            [
             0.1111111111111111,
             "#46039f"
            ],
            [
             0.2222222222222222,
             "#7201a8"
            ],
            [
             0.3333333333333333,
             "#9c179e"
            ],
            [
             0.4444444444444444,
             "#bd3786"
            ],
            [
             0.5555555555555556,
             "#d8576b"
            ],
            [
             0.6666666666666666,
             "#ed7953"
            ],
            [
             0.7777777777777778,
             "#fb9f3a"
            ],
            [
             0.8888888888888888,
             "#fdca26"
            ],
            [
             1,
             "#f0f921"
            ]
           ],
           "sequentialminus": [
            [
             0,
             "#0d0887"
            ],
            [
             0.1111111111111111,
             "#46039f"
            ],
            [
             0.2222222222222222,
             "#7201a8"
            ],
            [
             0.3333333333333333,
             "#9c179e"
            ],
            [
             0.4444444444444444,
             "#bd3786"
            ],
            [
             0.5555555555555556,
             "#d8576b"
            ],
            [
             0.6666666666666666,
             "#ed7953"
            ],
            [
             0.7777777777777778,
             "#fb9f3a"
            ],
            [
             0.8888888888888888,
             "#fdca26"
            ],
            [
             1,
             "#f0f921"
            ]
           ]
          },
          "colorway": [
           "#636efa",
           "#EF553B",
           "#00cc96",
           "#ab63fa",
           "#FFA15A",
           "#19d3f3",
           "#FF6692",
           "#B6E880",
           "#FF97FF",
           "#FECB52"
          ],
          "font": {
           "color": "#2a3f5f"
          },
          "geo": {
           "bgcolor": "white",
           "lakecolor": "white",
           "landcolor": "#E5ECF6",
           "showlakes": true,
           "showland": true,
           "subunitcolor": "white"
          },
          "hoverlabel": {
           "align": "left"
          },
          "hovermode": "closest",
          "mapbox": {
           "style": "light"
          },
          "paper_bgcolor": "white",
          "plot_bgcolor": "#E5ECF6",
          "polar": {
           "angularaxis": {
            "gridcolor": "white",
            "linecolor": "white",
            "ticks": ""
           },
           "bgcolor": "#E5ECF6",
           "radialaxis": {
            "gridcolor": "white",
            "linecolor": "white",
            "ticks": ""
           }
          },
          "scene": {
           "xaxis": {
            "backgroundcolor": "#E5ECF6",
            "gridcolor": "white",
            "gridwidth": 2,
            "linecolor": "white",
            "showbackground": true,
            "ticks": "",
            "zerolinecolor": "white"
           },
           "yaxis": {
            "backgroundcolor": "#E5ECF6",
            "gridcolor": "white",
            "gridwidth": 2,
            "linecolor": "white",
            "showbackground": true,
            "ticks": "",
            "zerolinecolor": "white"
           },
           "zaxis": {
            "backgroundcolor": "#E5ECF6",
            "gridcolor": "white",
            "gridwidth": 2,
            "linecolor": "white",
            "showbackground": true,
            "ticks": "",
            "zerolinecolor": "white"
           }
          },
          "shapedefaults": {
           "line": {
            "color": "#2a3f5f"
           }
          },
          "ternary": {
           "aaxis": {
            "gridcolor": "white",
            "linecolor": "white",
            "ticks": ""
           },
           "baxis": {
            "gridcolor": "white",
            "linecolor": "white",
            "ticks": ""
           },
           "bgcolor": "#E5ECF6",
           "caxis": {
            "gridcolor": "white",
            "linecolor": "white",
            "ticks": ""
           }
          },
          "title": {
           "x": 0.05
          },
          "xaxis": {
           "automargin": true,
           "gridcolor": "white",
           "linecolor": "white",
           "ticks": "",
           "title": {
            "standoff": 15
           },
           "zerolinecolor": "white",
           "zerolinewidth": 2
          },
          "yaxis": {
           "automargin": true,
           "gridcolor": "white",
           "linecolor": "white",
           "ticks": "",
           "title": {
            "standoff": 15
           },
           "zerolinecolor": "white",
           "zerolinewidth": 2
          }
         }
        }
       }
      },
      "text/html": [
       "<div>                            <div id=\"2d4e8886-ba3e-48a7-aa7b-11e329972add\" class=\"plotly-graph-div\" style=\"height:525px; width:100%;\"></div>            <script type=\"text/javascript\">                require([\"plotly\"], function(Plotly) {                    window.PLOTLYENV=window.PLOTLYENV || {};                                    if (document.getElementById(\"2d4e8886-ba3e-48a7-aa7b-11e329972add\")) {                    Plotly.newPlot(                        \"2d4e8886-ba3e-48a7-aa7b-11e329972add\",                        [{\"lat\":[48.8,40.75,39.7392,39.3197,38.627,40.6697,41.8781,44.98,48.5667,45.0,42.4167,40.4406,45.0,46.9,40.7128,39.9526,25.7617,25.1066,30.3833,32.7767,29.7604,29.3,25.9,29.4241,29.3667,31.8,32.2217,33.4833,36.1667,32.7333,33.8197,34.0522,36.77,37.6167,37.7297,45.5997,48.8],\"lon\":[-122.3833,-111.8833,-104.9903,-94.72,-90.1994,-89.68,-87.6298,-93.2519,-93.3833,-84.08,-83.0167,-79.9959,-73.15,-68.0167,-74.0059,-75.1652,-80.1918,-80.43,-84.3667,-96.797,-95.3698,-94.8,-97.4333,-98.4936,-100.7833,-106.4,-110.9258,-112.0667,-115.2,-117.1667,-118.15,-118.2428,-119.72,-122.3833,-122.22,-122.5997,-122.3833],\"marker\":{\"color\":\"red\",\"size\":10},\"mode\":\"markers+lines\",\"text\":[\"Bellingham\",\"Salt_Lake_City\",\"Denver\",\"KansasCity\",\"StLouis\",\"Peoria\",\"Chicago\",\"Minneapolis\",\"Internat_Falls\",\"AtlantaMI\",\"Detroit\",\"Pittsburgh\",\"NEWPTVT\",\"CaribouME\",\"NewYorkCity\",\"Philadelphia\",\"Miami\",\"KeyLargo\",\"Tallahassee\",\"Dallas\",\"Houston\",\"Galveston\",\"BrownsvilleTX\",\"SanAntnnio\",\"DelRio\",\"ElPaso\",\"Tucson\",\"Phoenix\",\"LasVegas\",\"SanDiego\",\"LongBeach\",\"Los_Angeles\",\"Fresno\",\"SanFran\",\"Oakland\",\"Portland\",\"Bellingham\"],\"type\":\"scattermapbox\"}],                        {\"template\":{\"data\":{\"histogram2dcontour\":[{\"type\":\"histogram2dcontour\",\"colorbar\":{\"outlinewidth\":0,\"ticks\":\"\"},\"colorscale\":[[0.0,\"#0d0887\"],[0.1111111111111111,\"#46039f\"],[0.2222222222222222,\"#7201a8\"],[0.3333333333333333,\"#9c179e\"],[0.4444444444444444,\"#bd3786\"],[0.5555555555555556,\"#d8576b\"],[0.6666666666666666,\"#ed7953\"],[0.7777777777777778,\"#fb9f3a\"],[0.8888888888888888,\"#fdca26\"],[1.0,\"#f0f921\"]]}],\"choropleth\":[{\"type\":\"choropleth\",\"colorbar\":{\"outlinewidth\":0,\"ticks\":\"\"}}],\"histogram2d\":[{\"type\":\"histogram2d\",\"colorbar\":{\"outlinewidth\":0,\"ticks\":\"\"},\"colorscale\":[[0.0,\"#0d0887\"],[0.1111111111111111,\"#46039f\"],[0.2222222222222222,\"#7201a8\"],[0.3333333333333333,\"#9c179e\"],[0.4444444444444444,\"#bd3786\"],[0.5555555555555556,\"#d8576b\"],[0.6666666666666666,\"#ed7953\"],[0.7777777777777778,\"#fb9f3a\"],[0.8888888888888888,\"#fdca26\"],[1.0,\"#f0f921\"]]}],\"heatmap\":[{\"type\":\"heatmap\",\"colorbar\":{\"outlinewidth\":0,\"ticks\":\"\"},\"colorscale\":[[0.0,\"#0d0887\"],[0.1111111111111111,\"#46039f\"],[0.2222222222222222,\"#7201a8\"],[0.3333333333333333,\"#9c179e\"],[0.4444444444444444,\"#bd3786\"],[0.5555555555555556,\"#d8576b\"],[0.6666666666666666,\"#ed7953\"],[0.7777777777777778,\"#fb9f3a\"],[0.8888888888888888,\"#fdca26\"],[1.0,\"#f0f921\"]]}],\"heatmapgl\":[{\"type\":\"heatmapgl\",\"colorbar\":{\"outlinewidth\":0,\"ticks\":\"\"},\"colorscale\":[[0.0,\"#0d0887\"],[0.1111111111111111,\"#46039f\"],[0.2222222222222222,\"#7201a8\"],[0.3333333333333333,\"#9c179e\"],[0.4444444444444444,\"#bd3786\"],[0.5555555555555556,\"#d8576b\"],[0.6666666666666666,\"#ed7953\"],[0.7777777777777778,\"#fb9f3a\"],[0.8888888888888888,\"#fdca26\"],[1.0,\"#f0f921\"]]}],\"contourcarpet\":[{\"type\":\"contourcarpet\",\"colorbar\":{\"outlinewidth\":0,\"ticks\":\"\"}}],\"contour\":[{\"type\":\"contour\",\"colorbar\":{\"outlinewidth\":0,\"ticks\":\"\"},\"colorscale\":[[0.0,\"#0d0887\"],[0.1111111111111111,\"#46039f\"],[0.2222222222222222,\"#7201a8\"],[0.3333333333333333,\"#9c179e\"],[0.4444444444444444,\"#bd3786\"],[0.5555555555555556,\"#d8576b\"],[0.6666666666666666,\"#ed7953\"],[0.7777777777777778,\"#fb9f3a\"],[0.8888888888888888,\"#fdca26\"],[1.0,\"#f0f921\"]]}],\"surface\":[{\"type\":\"surface\",\"colorbar\":{\"outlinewidth\":0,\"ticks\":\"\"},\"colorscale\":[[0.0,\"#0d0887\"],[0.1111111111111111,\"#46039f\"],[0.2222222222222222,\"#7201a8\"],[0.3333333333333333,\"#9c179e\"],[0.4444444444444444,\"#bd3786\"],[0.5555555555555556,\"#d8576b\"],[0.6666666666666666,\"#ed7953\"],[0.7777777777777778,\"#fb9f3a\"],[0.8888888888888888,\"#fdca26\"],[1.0,\"#f0f921\"]]}],\"mesh3d\":[{\"type\":\"mesh3d\",\"colorbar\":{\"outlinewidth\":0,\"ticks\":\"\"}}],\"scatter\":[{\"fillpattern\":{\"fillmode\":\"overlay\",\"size\":10,\"solidity\":0.2},\"type\":\"scatter\"}],\"parcoords\":[{\"type\":\"parcoords\",\"line\":{\"colorbar\":{\"outlinewidth\":0,\"ticks\":\"\"}}}],\"scatterpolargl\":[{\"type\":\"scatterpolargl\",\"marker\":{\"colorbar\":{\"outlinewidth\":0,\"ticks\":\"\"}}}],\"bar\":[{\"error_x\":{\"color\":\"#2a3f5f\"},\"error_y\":{\"color\":\"#2a3f5f\"},\"marker\":{\"line\":{\"color\":\"#E5ECF6\",\"width\":0.5},\"pattern\":{\"fillmode\":\"overlay\",\"size\":10,\"solidity\":0.2}},\"type\":\"bar\"}],\"scattergeo\":[{\"type\":\"scattergeo\",\"marker\":{\"colorbar\":{\"outlinewidth\":0,\"ticks\":\"\"}}}],\"scatterpolar\":[{\"type\":\"scatterpolar\",\"marker\":{\"colorbar\":{\"outlinewidth\":0,\"ticks\":\"\"}}}],\"histogram\":[{\"marker\":{\"pattern\":{\"fillmode\":\"overlay\",\"size\":10,\"solidity\":0.2}},\"type\":\"histogram\"}],\"scattergl\":[{\"type\":\"scattergl\",\"marker\":{\"colorbar\":{\"outlinewidth\":0,\"ticks\":\"\"}}}],\"scatter3d\":[{\"type\":\"scatter3d\",\"line\":{\"colorbar\":{\"outlinewidth\":0,\"ticks\":\"\"}},\"marker\":{\"colorbar\":{\"outlinewidth\":0,\"ticks\":\"\"}}}],\"scattermapbox\":[{\"type\":\"scattermapbox\",\"marker\":{\"colorbar\":{\"outlinewidth\":0,\"ticks\":\"\"}}}],\"scatterternary\":[{\"type\":\"scatterternary\",\"marker\":{\"colorbar\":{\"outlinewidth\":0,\"ticks\":\"\"}}}],\"scattercarpet\":[{\"type\":\"scattercarpet\",\"marker\":{\"colorbar\":{\"outlinewidth\":0,\"ticks\":\"\"}}}],\"carpet\":[{\"aaxis\":{\"endlinecolor\":\"#2a3f5f\",\"gridcolor\":\"white\",\"linecolor\":\"white\",\"minorgridcolor\":\"white\",\"startlinecolor\":\"#2a3f5f\"},\"baxis\":{\"endlinecolor\":\"#2a3f5f\",\"gridcolor\":\"white\",\"linecolor\":\"white\",\"minorgridcolor\":\"white\",\"startlinecolor\":\"#2a3f5f\"},\"type\":\"carpet\"}],\"table\":[{\"cells\":{\"fill\":{\"color\":\"#EBF0F8\"},\"line\":{\"color\":\"white\"}},\"header\":{\"fill\":{\"color\":\"#C8D4E3\"},\"line\":{\"color\":\"white\"}},\"type\":\"table\"}],\"barpolar\":[{\"marker\":{\"line\":{\"color\":\"#E5ECF6\",\"width\":0.5},\"pattern\":{\"fillmode\":\"overlay\",\"size\":10,\"solidity\":0.2}},\"type\":\"barpolar\"}],\"pie\":[{\"automargin\":true,\"type\":\"pie\"}]},\"layout\":{\"autotypenumbers\":\"strict\",\"colorway\":[\"#636efa\",\"#EF553B\",\"#00cc96\",\"#ab63fa\",\"#FFA15A\",\"#19d3f3\",\"#FF6692\",\"#B6E880\",\"#FF97FF\",\"#FECB52\"],\"font\":{\"color\":\"#2a3f5f\"},\"hovermode\":\"closest\",\"hoverlabel\":{\"align\":\"left\"},\"paper_bgcolor\":\"white\",\"plot_bgcolor\":\"#E5ECF6\",\"polar\":{\"bgcolor\":\"#E5ECF6\",\"angularaxis\":{\"gridcolor\":\"white\",\"linecolor\":\"white\",\"ticks\":\"\"},\"radialaxis\":{\"gridcolor\":\"white\",\"linecolor\":\"white\",\"ticks\":\"\"}},\"ternary\":{\"bgcolor\":\"#E5ECF6\",\"aaxis\":{\"gridcolor\":\"white\",\"linecolor\":\"white\",\"ticks\":\"\"},\"baxis\":{\"gridcolor\":\"white\",\"linecolor\":\"white\",\"ticks\":\"\"},\"caxis\":{\"gridcolor\":\"white\",\"linecolor\":\"white\",\"ticks\":\"\"}},\"coloraxis\":{\"colorbar\":{\"outlinewidth\":0,\"ticks\":\"\"}},\"colorscale\":{\"sequential\":[[0.0,\"#0d0887\"],[0.1111111111111111,\"#46039f\"],[0.2222222222222222,\"#7201a8\"],[0.3333333333333333,\"#9c179e\"],[0.4444444444444444,\"#bd3786\"],[0.5555555555555556,\"#d8576b\"],[0.6666666666666666,\"#ed7953\"],[0.7777777777777778,\"#fb9f3a\"],[0.8888888888888888,\"#fdca26\"],[1.0,\"#f0f921\"]],\"sequentialminus\":[[0.0,\"#0d0887\"],[0.1111111111111111,\"#46039f\"],[0.2222222222222222,\"#7201a8\"],[0.3333333333333333,\"#9c179e\"],[0.4444444444444444,\"#bd3786\"],[0.5555555555555556,\"#d8576b\"],[0.6666666666666666,\"#ed7953\"],[0.7777777777777778,\"#fb9f3a\"],[0.8888888888888888,\"#fdca26\"],[1.0,\"#f0f921\"]],\"diverging\":[[0,\"#8e0152\"],[0.1,\"#c51b7d\"],[0.2,\"#de77ae\"],[0.3,\"#f1b6da\"],[0.4,\"#fde0ef\"],[0.5,\"#f7f7f7\"],[0.6,\"#e6f5d0\"],[0.7,\"#b8e186\"],[0.8,\"#7fbc41\"],[0.9,\"#4d9221\"],[1,\"#276419\"]]},\"xaxis\":{\"gridcolor\":\"white\",\"linecolor\":\"white\",\"ticks\":\"\",\"title\":{\"standoff\":15},\"zerolinecolor\":\"white\",\"automargin\":true,\"zerolinewidth\":2},\"yaxis\":{\"gridcolor\":\"white\",\"linecolor\":\"white\",\"ticks\":\"\",\"title\":{\"standoff\":15},\"zerolinecolor\":\"white\",\"automargin\":true,\"zerolinewidth\":2},\"scene\":{\"xaxis\":{\"backgroundcolor\":\"#E5ECF6\",\"gridcolor\":\"white\",\"linecolor\":\"white\",\"showbackground\":true,\"ticks\":\"\",\"zerolinecolor\":\"white\",\"gridwidth\":2},\"yaxis\":{\"backgroundcolor\":\"#E5ECF6\",\"gridcolor\":\"white\",\"linecolor\":\"white\",\"showbackground\":true,\"ticks\":\"\",\"zerolinecolor\":\"white\",\"gridwidth\":2},\"zaxis\":{\"backgroundcolor\":\"#E5ECF6\",\"gridcolor\":\"white\",\"linecolor\":\"white\",\"showbackground\":true,\"ticks\":\"\",\"zerolinecolor\":\"white\",\"gridwidth\":2}},\"shapedefaults\":{\"line\":{\"color\":\"#2a3f5f\"}},\"annotationdefaults\":{\"arrowcolor\":\"#2a3f5f\",\"arrowhead\":0,\"arrowwidth\":1},\"geo\":{\"bgcolor\":\"white\",\"landcolor\":\"#E5ECF6\",\"subunitcolor\":\"white\",\"showland\":true,\"showlakes\":true,\"lakecolor\":\"white\"},\"title\":{\"x\":0.05},\"mapbox\":{\"style\":\"light\"}}},\"margin\":{\"l\":0,\"t\":0,\"b\":0,\"r\":0},\"mapbox\":{\"center\":{\"lon\":-98.35,\"lat\":39.5},\"style\":\"stamen-terrain\",\"zoom\":3}},                        {\"responsive\": true}                    ).then(function(){\n",
       "                            \n",
       "var gd = document.getElementById('2d4e8886-ba3e-48a7-aa7b-11e329972add');\n",
       "var x = new MutationObserver(function (mutations, observer) {{\n",
       "        var display = window.getComputedStyle(gd).display;\n",
       "        if (!display || display === 'none') {{\n",
       "            console.log([gd, 'removed!']);\n",
       "            Plotly.purge(gd);\n",
       "            observer.disconnect();\n",
       "        }}\n",
       "}});\n",
       "\n",
       "// Listen for the removal of the full notebook cells\n",
       "var notebookContainer = gd.closest('#notebook-container');\n",
       "if (notebookContainer) {{\n",
       "    x.observe(notebookContainer, {childList: true});\n",
       "}}\n",
       "\n",
       "// Listen for the clearing of the current output cell\n",
       "var outputEl = gd.closest('.output');\n",
       "if (outputEl) {{\n",
       "    x.observe(outputEl, {childList: true});\n",
       "}}\n",
       "\n",
       "                        })                };                });            </script>        </div>"
      ]
     },
     "metadata": {},
     "output_type": "display_data"
    }
   ],
   "source": [
    "fig = go.Figure(go.Scattermapbox(\n",
    "    mode = \"markers+lines\",\n",
    "    lon = lon_sorted,\n",
    "    lat = lat_sorted,\n",
    "    text = city_sorted,\n",
    "    marker = {'size': 10, 'color' : 'red'}))\n",
    "\n",
    "\n",
    "fig.update_layout(\n",
    "    margin ={'l':0,'t':0,'b':0,'r':0},\n",
    "    mapbox = {\n",
    "        'center': {'lon': -98.35, 'lat': 39.50},\n",
    "        'style': \"stamen-terrain\",\n",
    "        'zoom': 3})\n",
    "\n",
    "\n",
    "fig.show()"
   ]
  },
  {
   "cell_type": "code",
   "execution_count": 53,
   "id": "f9e9672d",
   "metadata": {},
   "outputs": [
    {
     "data": {
      "text/html": [
       "<div>\n",
       "<style scoped>\n",
       "    .dataframe tbody tr th:only-of-type {\n",
       "        vertical-align: middle;\n",
       "    }\n",
       "\n",
       "    .dataframe tbody tr th {\n",
       "        vertical-align: top;\n",
       "    }\n",
       "\n",
       "    .dataframe thead th {\n",
       "        text-align: right;\n",
       "    }\n",
       "</style>\n",
       "<table border=\"1\" class=\"dataframe\">\n",
       "  <thead>\n",
       "    <tr style=\"text-align: right;\">\n",
       "      <th></th>\n",
       "      <th>City</th>\n",
       "      <th>dist</th>\n",
       "      <th>total Dist</th>\n",
       "    </tr>\n",
       "  </thead>\n",
       "  <tbody>\n",
       "    <tr>\n",
       "      <th>0</th>\n",
       "      <td>Bellingham</td>\n",
       "      <td>0.000000</td>\n",
       "      <td>0.000000</td>\n",
       "    </tr>\n",
       "    <tr>\n",
       "      <th>1</th>\n",
       "      <td>Seattle</td>\n",
       "      <td>132.798715</td>\n",
       "      <td>132.798715</td>\n",
       "    </tr>\n",
       "    <tr>\n",
       "      <th>2</th>\n",
       "      <td>Portland</td>\n",
       "      <td>224.046870</td>\n",
       "      <td>356.845584</td>\n",
       "    </tr>\n",
       "    <tr>\n",
       "      <th>3</th>\n",
       "      <td>Fresno</td>\n",
       "      <td>1010.769660</td>\n",
       "      <td>1367.615244</td>\n",
       "    </tr>\n",
       "    <tr>\n",
       "      <th>4</th>\n",
       "      <td>Los_Angeles</td>\n",
       "      <td>330.516511</td>\n",
       "      <td>1698.131755</td>\n",
       "    </tr>\n",
       "    <tr>\n",
       "      <th>5</th>\n",
       "      <td>LongBeach</td>\n",
       "      <td>27.233474</td>\n",
       "      <td>1725.365229</td>\n",
       "    </tr>\n",
       "    <tr>\n",
       "      <th>6</th>\n",
       "      <td>SanDiego</td>\n",
       "      <td>151.487074</td>\n",
       "      <td>1876.852303</td>\n",
       "    </tr>\n",
       "    <tr>\n",
       "      <th>7</th>\n",
       "      <td>LasVegas</td>\n",
       "      <td>422.195674</td>\n",
       "      <td>2299.047977</td>\n",
       "    </tr>\n",
       "    <tr>\n",
       "      <th>8</th>\n",
       "      <td>Phoenix</td>\n",
       "      <td>413.264829</td>\n",
       "      <td>2712.312806</td>\n",
       "    </tr>\n",
       "    <tr>\n",
       "      <th>9</th>\n",
       "      <td>Tucson</td>\n",
       "      <td>176.170847</td>\n",
       "      <td>2888.483653</td>\n",
       "    </tr>\n",
       "    <tr>\n",
       "      <th>10</th>\n",
       "      <td>ElPaso</td>\n",
       "      <td>429.261801</td>\n",
       "      <td>3317.745454</td>\n",
       "    </tr>\n",
       "    <tr>\n",
       "      <th>11</th>\n",
       "      <td>DelRio</td>\n",
       "      <td>601.785573</td>\n",
       "      <td>3919.531028</td>\n",
       "    </tr>\n",
       "    <tr>\n",
       "      <th>12</th>\n",
       "      <td>BrownsvilleTX</td>\n",
       "      <td>507.381262</td>\n",
       "      <td>4426.912290</td>\n",
       "    </tr>\n",
       "    <tr>\n",
       "      <th>13</th>\n",
       "      <td>SanAntnnio</td>\n",
       "      <td>405.529193</td>\n",
       "      <td>4832.441483</td>\n",
       "    </tr>\n",
       "    <tr>\n",
       "      <th>14</th>\n",
       "      <td>Dallas</td>\n",
       "      <td>406.265992</td>\n",
       "      <td>5238.707475</td>\n",
       "    </tr>\n",
       "    <tr>\n",
       "      <th>15</th>\n",
       "      <td>Denver</td>\n",
       "      <td>1066.307939</td>\n",
       "      <td>6305.015414</td>\n",
       "    </tr>\n",
       "    <tr>\n",
       "      <th>16</th>\n",
       "      <td>Salt_Lake_City</td>\n",
       "      <td>595.569438</td>\n",
       "      <td>6900.584852</td>\n",
       "    </tr>\n",
       "    <tr>\n",
       "      <th>17</th>\n",
       "      <td>Bellingham</td>\n",
       "      <td>1217.681171</td>\n",
       "      <td>8118.266023</td>\n",
       "    </tr>\n",
       "    <tr>\n",
       "      <th>18</th>\n",
       "      <td>Seattle</td>\n",
       "      <td>132.798715</td>\n",
       "      <td>8251.064738</td>\n",
       "    </tr>\n",
       "    <tr>\n",
       "      <th>19</th>\n",
       "      <td>Portland</td>\n",
       "      <td>224.046870</td>\n",
       "      <td>8475.111608</td>\n",
       "    </tr>\n",
       "    <tr>\n",
       "      <th>20</th>\n",
       "      <td>Fresno</td>\n",
       "      <td>1010.769660</td>\n",
       "      <td>9485.881268</td>\n",
       "    </tr>\n",
       "    <tr>\n",
       "      <th>21</th>\n",
       "      <td>Los_Angeles</td>\n",
       "      <td>330.516511</td>\n",
       "      <td>9816.397779</td>\n",
       "    </tr>\n",
       "    <tr>\n",
       "      <th>22</th>\n",
       "      <td>LongBeach</td>\n",
       "      <td>27.233474</td>\n",
       "      <td>9843.631252</td>\n",
       "    </tr>\n",
       "    <tr>\n",
       "      <th>23</th>\n",
       "      <td>SanDiego</td>\n",
       "      <td>151.487074</td>\n",
       "      <td>9995.118327</td>\n",
       "    </tr>\n",
       "    <tr>\n",
       "      <th>24</th>\n",
       "      <td>LasVegas</td>\n",
       "      <td>422.195674</td>\n",
       "      <td>10417.314001</td>\n",
       "    </tr>\n",
       "    <tr>\n",
       "      <th>25</th>\n",
       "      <td>Phoenix</td>\n",
       "      <td>413.264829</td>\n",
       "      <td>10830.578829</td>\n",
       "    </tr>\n",
       "    <tr>\n",
       "      <th>26</th>\n",
       "      <td>Tucson</td>\n",
       "      <td>176.170847</td>\n",
       "      <td>11006.749676</td>\n",
       "    </tr>\n",
       "    <tr>\n",
       "      <th>27</th>\n",
       "      <td>ElPaso</td>\n",
       "      <td>429.261801</td>\n",
       "      <td>11436.011478</td>\n",
       "    </tr>\n",
       "    <tr>\n",
       "      <th>28</th>\n",
       "      <td>DelRio</td>\n",
       "      <td>601.785573</td>\n",
       "      <td>12037.797051</td>\n",
       "    </tr>\n",
       "    <tr>\n",
       "      <th>29</th>\n",
       "      <td>BrownsvilleTX</td>\n",
       "      <td>507.381262</td>\n",
       "      <td>12545.178313</td>\n",
       "    </tr>\n",
       "    <tr>\n",
       "      <th>30</th>\n",
       "      <td>SanAntnnio</td>\n",
       "      <td>405.529193</td>\n",
       "      <td>12950.707506</td>\n",
       "    </tr>\n",
       "    <tr>\n",
       "      <th>31</th>\n",
       "      <td>Dallas</td>\n",
       "      <td>406.265992</td>\n",
       "      <td>13356.973498</td>\n",
       "    </tr>\n",
       "    <tr>\n",
       "      <th>32</th>\n",
       "      <td>Denver</td>\n",
       "      <td>1066.307939</td>\n",
       "      <td>14423.281438</td>\n",
       "    </tr>\n",
       "    <tr>\n",
       "      <th>33</th>\n",
       "      <td>Salt_Lake_City</td>\n",
       "      <td>595.569438</td>\n",
       "      <td>15018.850875</td>\n",
       "    </tr>\n",
       "    <tr>\n",
       "      <th>34</th>\n",
       "      <td>Bellingham</td>\n",
       "      <td>1217.681171</td>\n",
       "      <td>16236.532047</td>\n",
       "    </tr>\n",
       "    <tr>\n",
       "      <th>35</th>\n",
       "      <td>Seattle</td>\n",
       "      <td>132.798715</td>\n",
       "      <td>16369.330761</td>\n",
       "    </tr>\n",
       "    <tr>\n",
       "      <th>36</th>\n",
       "      <td>Bellingham</td>\n",
       "      <td>132.798715</td>\n",
       "      <td>16502.129476</td>\n",
       "    </tr>\n",
       "  </tbody>\n",
       "</table>\n",
       "</div>"
      ],
      "text/plain": [
       "              City         dist    total Dist\n",
       "0       Bellingham     0.000000      0.000000\n",
       "1          Seattle   132.798715    132.798715\n",
       "2         Portland   224.046870    356.845584\n",
       "3           Fresno  1010.769660   1367.615244\n",
       "4      Los_Angeles   330.516511   1698.131755\n",
       "5        LongBeach    27.233474   1725.365229\n",
       "6         SanDiego   151.487074   1876.852303\n",
       "7         LasVegas   422.195674   2299.047977\n",
       "8          Phoenix   413.264829   2712.312806\n",
       "9           Tucson   176.170847   2888.483653\n",
       "10          ElPaso   429.261801   3317.745454\n",
       "11          DelRio   601.785573   3919.531028\n",
       "12   BrownsvilleTX   507.381262   4426.912290\n",
       "13      SanAntnnio   405.529193   4832.441483\n",
       "14          Dallas   406.265992   5238.707475\n",
       "15          Denver  1066.307939   6305.015414\n",
       "16  Salt_Lake_City   595.569438   6900.584852\n",
       "17      Bellingham  1217.681171   8118.266023\n",
       "18         Seattle   132.798715   8251.064738\n",
       "19        Portland   224.046870   8475.111608\n",
       "20          Fresno  1010.769660   9485.881268\n",
       "21     Los_Angeles   330.516511   9816.397779\n",
       "22       LongBeach    27.233474   9843.631252\n",
       "23        SanDiego   151.487074   9995.118327\n",
       "24        LasVegas   422.195674  10417.314001\n",
       "25         Phoenix   413.264829  10830.578829\n",
       "26          Tucson   176.170847  11006.749676\n",
       "27          ElPaso   429.261801  11436.011478\n",
       "28          DelRio   601.785573  12037.797051\n",
       "29   BrownsvilleTX   507.381262  12545.178313\n",
       "30      SanAntnnio   405.529193  12950.707506\n",
       "31          Dallas   406.265992  13356.973498\n",
       "32          Denver  1066.307939  14423.281438\n",
       "33  Salt_Lake_City   595.569438  15018.850875\n",
       "34      Bellingham  1217.681171  16236.532047\n",
       "35         Seattle   132.798715  16369.330761\n",
       "36      Bellingham   132.798715  16502.129476"
      ]
     },
     "execution_count": 53,
     "metadata": {},
     "output_type": "execute_result"
    }
   ],
   "source": [
    "header = ['City', '', 'total Dist']\n",
    "ijdist = np.empty((len(city_sorted)))\n",
    "accDist = np.empty((len(city_sorted)))\n",
    "\n",
    "ijdist[0] = 0\n",
    "accDist[0] = 0\n",
    "\n",
    "for k in range(1, len(sorted_indx)):\n",
    "    i = sorted_indx[k-1]\n",
    "    j = sorted_indx[k]\n",
    "    ijdist[k] = DIST[i,j]\n",
    "    accDist[k] = accDist[k-1] + DIST[i,j]\n",
    "\n",
    "\n",
    "tspDF = pd.DataFrame({'City':city_sorted, 'dist':ijdist, 'total Dist':accDist})\n",
    "tspDF"
   ]
  }
 ],
 "metadata": {
  "kernelspec": {
   "display_name": "Python 3 (ipykernel)",
   "language": "python",
   "name": "python3"
  },
  "language_info": {
   "codemirror_mode": {
    "name": "ipython",
    "version": 3
   },
   "file_extension": ".py",
   "mimetype": "text/x-python",
   "name": "python",
   "nbconvert_exporter": "python",
   "pygments_lexer": "ipython3",
   "version": "3.9.10"
  }
 },
 "nbformat": 4,
 "nbformat_minor": 5
}
