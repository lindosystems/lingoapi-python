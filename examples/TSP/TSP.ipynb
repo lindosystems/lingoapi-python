{
 "cells": [
  {
   "cell_type": "code",
   "execution_count": null,
   "id": "22cb3f6e",
   "metadata": {
    "scrolled": false
   },
   "outputs": [],
   "source": [
    "# Run this cell to download dependencies\n",
    "%pip install lingo_api==19.0.6\n",
    "%pip install pandas\n",
    "%pip install plotly\n",
    "%pip install geopy"
   ]
  },
  {
   "cell_type": "code",
   "execution_count": 6,
   "id": "ec8ad192",
   "metadata": {},
   "outputs": [],
   "source": [
    "import lingo_api as lingo\n",
    "import numpy as np\n",
    "import pandas as pd\n",
    "import plotly.graph_objects as go\n",
    "from geopy import distance"
   ]
  },
  {
   "cell_type": "code",
   "execution_count": 7,
   "id": "c9414905",
   "metadata": {},
   "outputs": [],
   "source": [
    "# TSP Callback\n",
    "# state = 1: The LINGO model has just added new subtours to the cuts\n",
    "# state = 2: The model has been solved\n",
    "# state = 0: Working on solving the submodel or finding new cuts\n",
    "#\n",
    "#\n",
    "def cbSolver(pEnv, nReserved, uData):\n",
    "    state   = np.array([-1.0], dtype=np.double)\n",
    "    errorcode = lingo.pyLSgetCallbackVarPrimalLng(pEnv, uData[\"Model_State\"], state)\n",
    "    \n",
    "    if state[0] == 1:\n",
    "\n",
    "        newTours   = np.array([-1.0], dtype=np.double)\n",
    "        totalTours = np.array([-1.0], dtype=np.double)\n",
    "        kurTime = np.array([-1.0], dtype=np.double)\n",
    "        \n",
    "        errorcode = lingo.pyLSgetCallbackVarPrimalLng(pEnv, uData[\"New_Tours\"], newTours)\n",
    "        errorcode = lingo.pyLSgetCallbackVarPrimalLng(pEnv, uData[\"Total_Tours\"], totalTours)\n",
    "        errorcode = lingo.pyLSgetCallbackVarPrimalLng(pEnv, uData[\"Time\"], kurTime)\n",
    "        \n",
    "        print(f\"Total Cuts: {int(totalTours[0]):-5} \\t New Cuts: {int(newTours[0]):-5} \\t Time Used: {kurTime[0]:-5.4f}\")\n",
    "    \n",
    "    elif state[0] == 2 and uData[\"Solve_Printed\"]==False:\n",
    "        uData[\"Solve_Printed\"] = True\n",
    "          \n",
    "        solved     = np.array([-1.0], dtype=np.double)\n",
    "        newTours   = np.array([-1.0], dtype=np.double)\n",
    "        totalTours = np.array([-1.0], dtype=np.double)\n",
    "        kurTime    = np.array([-1.0], dtype=np.double)\n",
    "        \n",
    "        errorcode = lingo.pyLSgetCallbackVarPrimalLng(pEnv, uData[\"SOLVED\"], solved)\n",
    "        errorcode = lingo.pyLSgetCallbackVarPrimalLng(pEnv, uData[\"New_Tours\"], newTours)\n",
    "        errorcode = lingo.pyLSgetCallbackVarPrimalLng(pEnv, uData[\"Total_Tours\"], totalTours)\n",
    "        errorcode = lingo.pyLSgetCallbackVarPrimalLng(pEnv, uData[\"Time\"], kurTime)\n",
    "\n",
    "        if solved[0] == 0:\n",
    "            printStr = f\"TSP Solved in {kurTime[0]:.4f} seconds\"\n",
    "        else:\n",
    "            printStr = f\"TSP was unable to be solved before running out of cuts\"\n",
    "        print(\"\\n=======================================================================================\")\n",
    "        print(printStr)\n",
    "\n",
    "    else:\n",
    "        pass\n",
    "    return 0\n",
    "\n",
    "def cbError(pEnv, uData, nErrorCode, errorText):\n",
    "    # A exception will be displayed if this callback is called\n",
    "    raise(nErrorCode, errorText)\n",
    "    \n"
   ]
  },
  {
   "cell_type": "markdown",
   "id": "158e25a5",
   "metadata": {},
   "source": [
    "## LINGO - Python TSP\n",
    "\n",
    "This TSP model is implemented using Dantzig, Fulkerson, Johnson (DFJ) subtour elimination constraints with the maximum number of cuts each iteration controlled by the user. The data for this model comes from US_Tour.csv, however the data can be swaped out with another data set with the columns; city, latitude, longitude. The LINGO model is included in the same directory as this jupyter notebook.\n",
    "\n",
    "There are seven LINGO pointers that this model uses to send and recive data that must be set/allocated in Python.\n",
    "\n",
    "- **Pointer1**: *MAXTOUR* a model parameter that sets the maximum number of subtours that can be added to the model.\n",
    "- **Pointer2**: *MAXADD* a model parameter that sets the maximum number of subtours that can be added at each iteration.\n",
    "- **Pointer3**: *CITY* a model set passed as a NumPy array of city names that will be visited on the tour.\n",
    "- **Pointer4**: *LATI* a model parameter passed as a NumPy array of latitudes of each city on the tour.\n",
    "- **Pointer5**: *LNGT* a model parameter passed as a NumPy array of longitudes of each city on the tour.\n",
    "- **Pointer6**: *Y* a model variabel matrix passed as a NumPy array of size numberOfCities*numberOfCities where $Y_{i,j} = 1$ if path form city $i$ to city $j$ is used $0$ otherwise.\n",
    "- **Pointer7**: *DIST* a model parameter for of distance between node $i$ and $j$. To allocate memmory for this return data create an empty NumPy array of size numberOfCities*numberOfCities.\n",
    "- **Pointer8**: *SOLVED* a model variable that is is $0$ if the TSP was solved $1$ otherwise."
   ]
  },
  {
   "cell_type": "code",
   "execution_count": 71,
   "id": "e4a3e3c8",
   "metadata": {},
   "outputs": [],
   "source": [
    "# Make swapping datasets painless by describing them as a dictionary \n",
    "Huston = {\n",
    "            \"CSV\":\"Houston_Texas_Neighborhoods_Lat_Long_List.csv\",\n",
    "            \"Map_Center\":{'lon': -95.36, 'lat': 29.75},\n",
    "            \"Map_ZOOM\":9,\n",
    "}\n",
    "\n",
    "US_Tour = {\n",
    "            \"CSV\":\"US_Tour.csv\",\n",
    "            \"Map_Center\":{'lon': -98.35, 'lat': 39.50},\n",
    "            \"Map_ZOOM\":2,\n",
    "}"
   ]
  },
  {
   "cell_type": "code",
   "execution_count": 77,
   "id": "544cc1ce",
   "metadata": {},
   "outputs": [],
   "source": [
    "#======= User Supplied Data\n",
    "\n",
    "DATA_SET = US_Tour    # DATA_SET a dictionary that describes a dataset\n",
    "MAXTOUR = 250         # Maximum tours that can be added to the model\n",
    "MAXADD  = 50          # Maximum tours that can added at each iteration\n",
    "\n",
    "#===========\n",
    "\n",
    "# csv data\n",
    "df = pd.read_csv(DATA_SET[\"CSV\"])\n",
    "# model \n",
    "lngFile = \"tspLoop.lng\"\n",
    "\n",
    "# data for pointres\n",
    "CITY = df[\"city\"].values\n",
    "LATI = df[\"latitude\"].values  \n",
    "LNGT = df[\"longitude\"].values\n",
    "\n",
    "        \n",
    "\n",
    "numCities = len(CITY)\n",
    "\n",
    "Y = np.empty(numCities*numCities)\n",
    "DIST = np.empty(numCities*numCities)\n",
    "SOLVED = np.array([-1.0])\n",
    "\n",
    "# Callback Data\n",
    "uData =  {\"Prefix\":\"Lingo API\",\n",
    "          \"Model_State\":np.array([\"STATE\"],dtype=\"|S102\"),\n",
    "          \"New_Tours\":np.array([\"ADDED\"],dtype=\"|S102\"),\n",
    "          \"Total_Tours\":np.array([\"TOTALTOURS\"],dtype=\"|S102\"),\n",
    "          \"Time\":np.array([\"KURTIME\"],dtype=\"|S102\"),\n",
    "          \"SOLVED\":np.array([\"SOLVED\"],dtype=\"|S102\"),\n",
    "          \"Solve_Printed\":False,\n",
    "}\n"
   ]
  },
  {
   "cell_type": "code",
   "execution_count": 78,
   "id": "dabb858c",
   "metadata": {
    "scrolled": false
   },
   "outputs": [
    {
     "name": "stdout",
     "output_type": "stream",
     "text": [
      "Total Cuts:    17 \t New Cuts:    17 \t Time Used: 0.1270\n",
      "Total Cuts:    31 \t New Cuts:    14 \t Time Used: 0.2450\n",
      "Total Cuts:    38 \t New Cuts:     7 \t Time Used: 0.3750\n",
      "Total Cuts:    39 \t New Cuts:     1 \t Time Used: 0.5000\n",
      "\n",
      "=======================================================================================\n",
      "TSP Solved in 0.5000 seconds\n"
     ]
    }
   ],
   "source": [
    "# Create a model object\n",
    "model = lingo.Model(lngFile)\n",
    "\n",
    "# set all pointers in the order that they appear in tspLoop.lng\n",
    "model.set_pointer(\"Pointer1\",MAXTOUR,lingo.PARAM)\n",
    "model.set_pointer(\"Pointer2\",MAXADD,lingo.PARAM)\n",
    "model.set_pointer(\"Pointer3\",CITY,lingo.SET)\n",
    "model.set_pointer(\"Pointer4\",LATI,lingo.PARAM)\n",
    "model.set_pointer(\"Pointer5\",LNGT,lingo.PARAM)\n",
    "model.set_pointer(\"Pointer6\",Y,lingo.VAR)\n",
    "model.set_pointer(\"Pointer7\",DIST,lingo.PARAM)\n",
    "model.set_pointer(\"Pointer8\",SOLVED,lingo.VAR)\n",
    "\n",
    "# set all callback functions and user data\n",
    "model.set_cbSolver(cbSolver)\n",
    "model.set_uData(uData)\n",
    "\n",
    "# solve the model\n",
    "lingo.solve(model)\n",
    "\n",
    "# Fix Data\n",
    "Y = np.reshape(Y,(numCities,numCities))\n",
    "DIST = np.reshape(DIST,(numCities,numCities))"
   ]
  },
  {
   "cell_type": "code",
   "execution_count": 79,
   "id": "94319093",
   "metadata": {
    "scrolled": false
   },
   "outputs": [],
   "source": [
    "# Orginaize data to be ploted\n",
    "j_map = np.zeros(numCities, dtype=np.int32)\n",
    "\n",
    "\n",
    "pos = 0\n",
    "for ij, val in np.ndenumerate(Y):\n",
    "    if val >= 0.5:\n",
    "        i = ij[0]\n",
    "        j = ij[1]\n",
    "        j_map[pos] = j\n",
    "        pos += 1 \n",
    "        \n",
    "entry_pos = 0\n",
    "lon_sorted = np.zeros(numCities)\n",
    "lat_sorted = np.zeros(numCities)\n",
    "city_sorted = np.empty(numCities, dtype=object)\n",
    "sorted_indx = np.zeros(numCities,dtype=int)\n",
    "\n",
    "lon_sorted[entry_pos] = LNGT[0]\n",
    "lat_sorted[entry_pos] = LATI[0]\n",
    "city_sorted[0] = CITY[0]\n",
    "sorted_indx[0] = 0\n",
    "\n",
    "\n",
    "for i in range(1,len(j_map)-1):\n",
    "    lon_sorted[i] = LNGT[j_map[entry_pos]]\n",
    "    lat_sorted[i] = LATI[j_map[entry_pos]]\n",
    "    city_sorted[i] = CITY[j_map[entry_pos]]\n",
    "    sorted_indx[i] = j_map[entry_pos]\n",
    "    entry_pos = j_map[entry_pos]\n",
    "    \n",
    "lon_sorted[-1] = LNGT[0]\n",
    "lat_sorted[-1] = LATI[0]\n",
    "city_sorted[-1] = CITY[0]\n",
    "sorted_indx[-1] = 0"
   ]
  },
  {
   "cell_type": "code",
   "execution_count": 80,
   "id": "3d9b23c1",
   "metadata": {},
   "outputs": [
    {
     "data": {
      "application/vnd.plotly.v1+json": {
       "config": {
        "plotlyServerURL": "https://plot.ly"
       },
       "data": [
        {
         "lat": [
          48.8,
          40.75,
          39.7392,
          39.3197,
          38.627,
          40.6697,
          41.8781,
          44.98,
          48.5667,
          45,
          42.4167,
          40.4406,
          45,
          46.9,
          40.7128,
          39.9526,
          25.7617,
          25.1066,
          30.3833,
          32.7767,
          29.7604,
          29.3,
          25.9,
          29.4241,
          29.3667,
          31.8,
          32.2217,
          33.4833,
          36.1667,
          32.7333,
          33.8197,
          34.0522,
          36.77,
          37.6167,
          37.7297,
          45.5997,
          48.8
         ],
         "lon": [
          -122.3833,
          -111.8833,
          -104.9903,
          -94.72,
          -90.1994,
          -89.68,
          -87.6298,
          -93.2519,
          -93.3833,
          -84.08,
          -83.0167,
          -79.9959,
          -73.15,
          -68.0167,
          -74.0059,
          -75.1652,
          -80.1918,
          -80.43,
          -84.3667,
          -96.797,
          -95.3698,
          -94.8,
          -97.4333,
          -98.4936,
          -100.7833,
          -106.4,
          -110.9258,
          -112.0667,
          -115.2,
          -117.1667,
          -118.15,
          -118.2428,
          -119.72,
          -122.3833,
          -122.22,
          -122.5997,
          -122.3833
         ],
         "marker": {
          "color": "red",
          "size": 10
         },
         "mode": "markers+lines",
         "text": [
          "Bellingham",
          "Salt_Lake_City",
          "Denver",
          "KansasCity",
          "StLouis",
          "Peoria",
          "Chicago",
          "Minneapolis",
          "Internat_Falls",
          "AtlantaMI",
          "Detroit",
          "Pittsburgh",
          "NEWPTVT",
          "CaribouME",
          "NewYorkCity",
          "Philadelphia",
          "Miami",
          "KeyLargo",
          "Tallahassee",
          "Dallas",
          "Houston",
          "Galveston",
          "BrownsvilleTX",
          "SanAntnnio",
          "DelRio",
          "ElPaso",
          "Tucson",
          "Phoenix",
          "LasVegas",
          "SanDiego",
          "LongBeach",
          "Los_Angeles",
          "Fresno",
          "SanFran",
          "Oakland",
          "Portland",
          "Bellingham"
         ],
         "type": "scattermapbox"
        }
       ],
       "layout": {
        "mapbox": {
         "center": {
          "lat": 39.5,
          "lon": -98.35
         },
         "style": "stamen-terrain",
         "zoom": 2
        },
        "margin": {
         "b": 0,
         "l": 0,
         "r": 0,
         "t": 0
        },
        "template": {
         "data": {
          "bar": [
           {
            "error_x": {
             "color": "#2a3f5f"
            },
            "error_y": {
             "color": "#2a3f5f"
            },
            "marker": {
             "line": {
              "color": "#E5ECF6",
              "width": 0.5
             },
             "pattern": {
              "fillmode": "overlay",
              "size": 10,
              "solidity": 0.2
             }
            },
            "type": "bar"
           }
          ],
          "barpolar": [
           {
            "marker": {
             "line": {
              "color": "#E5ECF6",
              "width": 0.5
             },
             "pattern": {
              "fillmode": "overlay",
              "size": 10,
              "solidity": 0.2
             }
            },
            "type": "barpolar"
           }
          ],
          "carpet": [
           {
            "aaxis": {
             "endlinecolor": "#2a3f5f",
             "gridcolor": "white",
             "linecolor": "white",
             "minorgridcolor": "white",
             "startlinecolor": "#2a3f5f"
            },
            "baxis": {
             "endlinecolor": "#2a3f5f",
             "gridcolor": "white",
             "linecolor": "white",
             "minorgridcolor": "white",
             "startlinecolor": "#2a3f5f"
            },
            "type": "carpet"
           }
          ],
          "choropleth": [
           {
            "colorbar": {
             "outlinewidth": 0,
             "ticks": ""
            },
            "type": "choropleth"
           }
          ],
          "contour": [
           {
            "colorbar": {
             "outlinewidth": 0,
             "ticks": ""
            },
            "colorscale": [
             [
              0,
              "#0d0887"
             ],
             [
              0.1111111111111111,
              "#46039f"
             ],
             [
              0.2222222222222222,
              "#7201a8"
             ],
             [
              0.3333333333333333,
              "#9c179e"
             ],
             [
              0.4444444444444444,
              "#bd3786"
             ],
             [
              0.5555555555555556,
              "#d8576b"
             ],
             [
              0.6666666666666666,
              "#ed7953"
             ],
             [
              0.7777777777777778,
              "#fb9f3a"
             ],
             [
              0.8888888888888888,
              "#fdca26"
             ],
             [
              1,
              "#f0f921"
             ]
            ],
            "type": "contour"
           }
          ],
          "contourcarpet": [
           {
            "colorbar": {
             "outlinewidth": 0,
             "ticks": ""
            },
            "type": "contourcarpet"
           }
          ],
          "heatmap": [
           {
            "colorbar": {
             "outlinewidth": 0,
             "ticks": ""
            },
            "colorscale": [
             [
              0,
              "#0d0887"
             ],
             [
              0.1111111111111111,
              "#46039f"
             ],
             [
              0.2222222222222222,
              "#7201a8"
             ],
             [
              0.3333333333333333,
              "#9c179e"
             ],
             [
              0.4444444444444444,
              "#bd3786"
             ],
             [
              0.5555555555555556,
              "#d8576b"
             ],
             [
              0.6666666666666666,
              "#ed7953"
             ],
             [
              0.7777777777777778,
              "#fb9f3a"
             ],
             [
              0.8888888888888888,
              "#fdca26"
             ],
             [
              1,
              "#f0f921"
             ]
            ],
            "type": "heatmap"
           }
          ],
          "heatmapgl": [
           {
            "colorbar": {
             "outlinewidth": 0,
             "ticks": ""
            },
            "colorscale": [
             [
              0,
              "#0d0887"
             ],
             [
              0.1111111111111111,
              "#46039f"
             ],
             [
              0.2222222222222222,
              "#7201a8"
             ],
             [
              0.3333333333333333,
              "#9c179e"
             ],
             [
              0.4444444444444444,
              "#bd3786"
             ],
             [
              0.5555555555555556,
              "#d8576b"
             ],
             [
              0.6666666666666666,
              "#ed7953"
             ],
             [
              0.7777777777777778,
              "#fb9f3a"
             ],
             [
              0.8888888888888888,
              "#fdca26"
             ],
             [
              1,
              "#f0f921"
             ]
            ],
            "type": "heatmapgl"
           }
          ],
          "histogram": [
           {
            "marker": {
             "pattern": {
              "fillmode": "overlay",
              "size": 10,
              "solidity": 0.2
             }
            },
            "type": "histogram"
           }
          ],
          "histogram2d": [
           {
            "colorbar": {
             "outlinewidth": 0,
             "ticks": ""
            },
            "colorscale": [
             [
              0,
              "#0d0887"
             ],
             [
              0.1111111111111111,
              "#46039f"
             ],
             [
              0.2222222222222222,
              "#7201a8"
             ],
             [
              0.3333333333333333,
              "#9c179e"
             ],
             [
              0.4444444444444444,
              "#bd3786"
             ],
             [
              0.5555555555555556,
              "#d8576b"
             ],
             [
              0.6666666666666666,
              "#ed7953"
             ],
             [
              0.7777777777777778,
              "#fb9f3a"
             ],
             [
              0.8888888888888888,
              "#fdca26"
             ],
             [
              1,
              "#f0f921"
             ]
            ],
            "type": "histogram2d"
           }
          ],
          "histogram2dcontour": [
           {
            "colorbar": {
             "outlinewidth": 0,
             "ticks": ""
            },
            "colorscale": [
             [
              0,
              "#0d0887"
             ],
             [
              0.1111111111111111,
              "#46039f"
             ],
             [
              0.2222222222222222,
              "#7201a8"
             ],
             [
              0.3333333333333333,
              "#9c179e"
             ],
             [
              0.4444444444444444,
              "#bd3786"
             ],
             [
              0.5555555555555556,
              "#d8576b"
             ],
             [
              0.6666666666666666,
              "#ed7953"
             ],
             [
              0.7777777777777778,
              "#fb9f3a"
             ],
             [
              0.8888888888888888,
              "#fdca26"
             ],
             [
              1,
              "#f0f921"
             ]
            ],
            "type": "histogram2dcontour"
           }
          ],
          "mesh3d": [
           {
            "colorbar": {
             "outlinewidth": 0,
             "ticks": ""
            },
            "type": "mesh3d"
           }
          ],
          "parcoords": [
           {
            "line": {
             "colorbar": {
              "outlinewidth": 0,
              "ticks": ""
             }
            },
            "type": "parcoords"
           }
          ],
          "pie": [
           {
            "automargin": true,
            "type": "pie"
           }
          ],
          "scatter": [
           {
            "fillpattern": {
             "fillmode": "overlay",
             "size": 10,
             "solidity": 0.2
            },
            "type": "scatter"
           }
          ],
          "scatter3d": [
           {
            "line": {
             "colorbar": {
              "outlinewidth": 0,
              "ticks": ""
             }
            },
            "marker": {
             "colorbar": {
              "outlinewidth": 0,
              "ticks": ""
             }
            },
            "type": "scatter3d"
           }
          ],
          "scattercarpet": [
           {
            "marker": {
             "colorbar": {
              "outlinewidth": 0,
              "ticks": ""
             }
            },
            "type": "scattercarpet"
           }
          ],
          "scattergeo": [
           {
            "marker": {
             "colorbar": {
              "outlinewidth": 0,
              "ticks": ""
             }
            },
            "type": "scattergeo"
           }
          ],
          "scattergl": [
           {
            "marker": {
             "colorbar": {
              "outlinewidth": 0,
              "ticks": ""
             }
            },
            "type": "scattergl"
           }
          ],
          "scattermapbox": [
           {
            "marker": {
             "colorbar": {
              "outlinewidth": 0,
              "ticks": ""
             }
            },
            "type": "scattermapbox"
           }
          ],
          "scatterpolar": [
           {
            "marker": {
             "colorbar": {
              "outlinewidth": 0,
              "ticks": ""
             }
            },
            "type": "scatterpolar"
           }
          ],
          "scatterpolargl": [
           {
            "marker": {
             "colorbar": {
              "outlinewidth": 0,
              "ticks": ""
             }
            },
            "type": "scatterpolargl"
           }
          ],
          "scatterternary": [
           {
            "marker": {
             "colorbar": {
              "outlinewidth": 0,
              "ticks": ""
             }
            },
            "type": "scatterternary"
           }
          ],
          "surface": [
           {
            "colorbar": {
             "outlinewidth": 0,
             "ticks": ""
            },
            "colorscale": [
             [
              0,
              "#0d0887"
             ],
             [
              0.1111111111111111,
              "#46039f"
             ],
             [
              0.2222222222222222,
              "#7201a8"
             ],
             [
              0.3333333333333333,
              "#9c179e"
             ],
             [
              0.4444444444444444,
              "#bd3786"
             ],
             [
              0.5555555555555556,
              "#d8576b"
             ],
             [
              0.6666666666666666,
              "#ed7953"
             ],
             [
              0.7777777777777778,
              "#fb9f3a"
             ],
             [
              0.8888888888888888,
              "#fdca26"
             ],
             [
              1,
              "#f0f921"
             ]
            ],
            "type": "surface"
           }
          ],
          "table": [
           {
            "cells": {
             "fill": {
              "color": "#EBF0F8"
             },
             "line": {
              "color": "white"
             }
            },
            "header": {
             "fill": {
              "color": "#C8D4E3"
             },
             "line": {
              "color": "white"
             }
            },
            "type": "table"
           }
          ]
         },
         "layout": {
          "annotationdefaults": {
           "arrowcolor": "#2a3f5f",
           "arrowhead": 0,
           "arrowwidth": 1
          },
          "autotypenumbers": "strict",
          "coloraxis": {
           "colorbar": {
            "outlinewidth": 0,
            "ticks": ""
           }
          },
          "colorscale": {
           "diverging": [
            [
             0,
             "#8e0152"
            ],
            [
             0.1,
             "#c51b7d"
            ],
            [
             0.2,
             "#de77ae"
            ],
            [
             0.3,
             "#f1b6da"
            ],
            [
             0.4,
             "#fde0ef"
            ],
            [
             0.5,
             "#f7f7f7"
            ],
            [
             0.6,
             "#e6f5d0"
            ],
            [
             0.7,
             "#b8e186"
            ],
            [
             0.8,
             "#7fbc41"
            ],
            [
             0.9,
             "#4d9221"
            ],
            [
             1,
             "#276419"
            ]
           ],
           "sequential": [
            [
             0,
             "#0d0887"
            ],
            [
             0.1111111111111111,
             "#46039f"
            ],
            [
             0.2222222222222222,
             "#7201a8"
            ],
            [
             0.3333333333333333,
             "#9c179e"
            ],
            [
             0.4444444444444444,
             "#bd3786"
            ],
            [
             0.5555555555555556,
             "#d8576b"
            ],
            [
             0.6666666666666666,
             "#ed7953"
            ],
            [
             0.7777777777777778,
             "#fb9f3a"
            ],
            [
             0.8888888888888888,
             "#fdca26"
            ],
            [
             1,
             "#f0f921"
            ]
           ],
           "sequentialminus": [
            [
             0,
             "#0d0887"
            ],
            [
             0.1111111111111111,
             "#46039f"
            ],
            [
             0.2222222222222222,
             "#7201a8"
            ],
            [
             0.3333333333333333,
             "#9c179e"
            ],
            [
             0.4444444444444444,
             "#bd3786"
            ],
            [
             0.5555555555555556,
             "#d8576b"
            ],
            [
             0.6666666666666666,
             "#ed7953"
            ],
            [
             0.7777777777777778,
             "#fb9f3a"
            ],
            [
             0.8888888888888888,
             "#fdca26"
            ],
            [
             1,
             "#f0f921"
            ]
           ]
          },
          "colorway": [
           "#636efa",
           "#EF553B",
           "#00cc96",
           "#ab63fa",
           "#FFA15A",
           "#19d3f3",
           "#FF6692",
           "#B6E880",
           "#FF97FF",
           "#FECB52"
          ],
          "font": {
           "color": "#2a3f5f"
          },
          "geo": {
           "bgcolor": "white",
           "lakecolor": "white",
           "landcolor": "#E5ECF6",
           "showlakes": true,
           "showland": true,
           "subunitcolor": "white"
          },
          "hoverlabel": {
           "align": "left"
          },
          "hovermode": "closest",
          "mapbox": {
           "style": "light"
          },
          "paper_bgcolor": "white",
          "plot_bgcolor": "#E5ECF6",
          "polar": {
           "angularaxis": {
            "gridcolor": "white",
            "linecolor": "white",
            "ticks": ""
           },
           "bgcolor": "#E5ECF6",
           "radialaxis": {
            "gridcolor": "white",
            "linecolor": "white",
            "ticks": ""
           }
          },
          "scene": {
           "xaxis": {
            "backgroundcolor": "#E5ECF6",
            "gridcolor": "white",
            "gridwidth": 2,
            "linecolor": "white",
            "showbackground": true,
            "ticks": "",
            "zerolinecolor": "white"
           },
           "yaxis": {
            "backgroundcolor": "#E5ECF6",
            "gridcolor": "white",
            "gridwidth": 2,
            "linecolor": "white",
            "showbackground": true,
            "ticks": "",
            "zerolinecolor": "white"
           },
           "zaxis": {
            "backgroundcolor": "#E5ECF6",
            "gridcolor": "white",
            "gridwidth": 2,
            "linecolor": "white",
            "showbackground": true,
            "ticks": "",
            "zerolinecolor": "white"
           }
          },
          "shapedefaults": {
           "line": {
            "color": "#2a3f5f"
           }
          },
          "ternary": {
           "aaxis": {
            "gridcolor": "white",
            "linecolor": "white",
            "ticks": ""
           },
           "baxis": {
            "gridcolor": "white",
            "linecolor": "white",
            "ticks": ""
           },
           "bgcolor": "#E5ECF6",
           "caxis": {
            "gridcolor": "white",
            "linecolor": "white",
            "ticks": ""
           }
          },
          "title": {
           "x": 0.05
          },
          "xaxis": {
           "automargin": true,
           "gridcolor": "white",
           "linecolor": "white",
           "ticks": "",
           "title": {
            "standoff": 15
           },
           "zerolinecolor": "white",
           "zerolinewidth": 2
          },
          "yaxis": {
           "automargin": true,
           "gridcolor": "white",
           "linecolor": "white",
           "ticks": "",
           "title": {
            "standoff": 15
           },
           "zerolinecolor": "white",
           "zerolinewidth": 2
          }
         }
        }
       }
      },
      "text/html": [
       "<div>                            <div id=\"2330ee19-d6fd-4b0b-b4aa-5967f5ed890b\" class=\"plotly-graph-div\" style=\"height:525px; width:100%;\"></div>            <script type=\"text/javascript\">                require([\"plotly\"], function(Plotly) {                    window.PLOTLYENV=window.PLOTLYENV || {};                                    if (document.getElementById(\"2330ee19-d6fd-4b0b-b4aa-5967f5ed890b\")) {                    Plotly.newPlot(                        \"2330ee19-d6fd-4b0b-b4aa-5967f5ed890b\",                        [{\"lat\":[48.8,40.75,39.7392,39.3197,38.627,40.6697,41.8781,44.98,48.5667,45.0,42.4167,40.4406,45.0,46.9,40.7128,39.9526,25.7617,25.1066,30.3833,32.7767,29.7604,29.3,25.9,29.4241,29.3667,31.8,32.2217,33.4833,36.1667,32.7333,33.8197,34.0522,36.77,37.6167,37.7297,45.5997,48.8],\"lon\":[-122.3833,-111.8833,-104.9903,-94.72,-90.1994,-89.68,-87.6298,-93.2519,-93.3833,-84.08,-83.0167,-79.9959,-73.15,-68.0167,-74.0059,-75.1652,-80.1918,-80.43,-84.3667,-96.797,-95.3698,-94.8,-97.4333,-98.4936,-100.7833,-106.4,-110.9258,-112.0667,-115.2,-117.1667,-118.15,-118.2428,-119.72,-122.3833,-122.22,-122.5997,-122.3833],\"marker\":{\"color\":\"red\",\"size\":10},\"mode\":\"markers+lines\",\"text\":[\"Bellingham\",\"Salt_Lake_City\",\"Denver\",\"KansasCity\",\"StLouis\",\"Peoria\",\"Chicago\",\"Minneapolis\",\"Internat_Falls\",\"AtlantaMI\",\"Detroit\",\"Pittsburgh\",\"NEWPTVT\",\"CaribouME\",\"NewYorkCity\",\"Philadelphia\",\"Miami\",\"KeyLargo\",\"Tallahassee\",\"Dallas\",\"Houston\",\"Galveston\",\"BrownsvilleTX\",\"SanAntnnio\",\"DelRio\",\"ElPaso\",\"Tucson\",\"Phoenix\",\"LasVegas\",\"SanDiego\",\"LongBeach\",\"Los_Angeles\",\"Fresno\",\"SanFran\",\"Oakland\",\"Portland\",\"Bellingham\"],\"type\":\"scattermapbox\"}],                        {\"template\":{\"data\":{\"histogram2dcontour\":[{\"type\":\"histogram2dcontour\",\"colorbar\":{\"outlinewidth\":0,\"ticks\":\"\"},\"colorscale\":[[0.0,\"#0d0887\"],[0.1111111111111111,\"#46039f\"],[0.2222222222222222,\"#7201a8\"],[0.3333333333333333,\"#9c179e\"],[0.4444444444444444,\"#bd3786\"],[0.5555555555555556,\"#d8576b\"],[0.6666666666666666,\"#ed7953\"],[0.7777777777777778,\"#fb9f3a\"],[0.8888888888888888,\"#fdca26\"],[1.0,\"#f0f921\"]]}],\"choropleth\":[{\"type\":\"choropleth\",\"colorbar\":{\"outlinewidth\":0,\"ticks\":\"\"}}],\"histogram2d\":[{\"type\":\"histogram2d\",\"colorbar\":{\"outlinewidth\":0,\"ticks\":\"\"},\"colorscale\":[[0.0,\"#0d0887\"],[0.1111111111111111,\"#46039f\"],[0.2222222222222222,\"#7201a8\"],[0.3333333333333333,\"#9c179e\"],[0.4444444444444444,\"#bd3786\"],[0.5555555555555556,\"#d8576b\"],[0.6666666666666666,\"#ed7953\"],[0.7777777777777778,\"#fb9f3a\"],[0.8888888888888888,\"#fdca26\"],[1.0,\"#f0f921\"]]}],\"heatmap\":[{\"type\":\"heatmap\",\"colorbar\":{\"outlinewidth\":0,\"ticks\":\"\"},\"colorscale\":[[0.0,\"#0d0887\"],[0.1111111111111111,\"#46039f\"],[0.2222222222222222,\"#7201a8\"],[0.3333333333333333,\"#9c179e\"],[0.4444444444444444,\"#bd3786\"],[0.5555555555555556,\"#d8576b\"],[0.6666666666666666,\"#ed7953\"],[0.7777777777777778,\"#fb9f3a\"],[0.8888888888888888,\"#fdca26\"],[1.0,\"#f0f921\"]]}],\"heatmapgl\":[{\"type\":\"heatmapgl\",\"colorbar\":{\"outlinewidth\":0,\"ticks\":\"\"},\"colorscale\":[[0.0,\"#0d0887\"],[0.1111111111111111,\"#46039f\"],[0.2222222222222222,\"#7201a8\"],[0.3333333333333333,\"#9c179e\"],[0.4444444444444444,\"#bd3786\"],[0.5555555555555556,\"#d8576b\"],[0.6666666666666666,\"#ed7953\"],[0.7777777777777778,\"#fb9f3a\"],[0.8888888888888888,\"#fdca26\"],[1.0,\"#f0f921\"]]}],\"contourcarpet\":[{\"type\":\"contourcarpet\",\"colorbar\":{\"outlinewidth\":0,\"ticks\":\"\"}}],\"contour\":[{\"type\":\"contour\",\"colorbar\":{\"outlinewidth\":0,\"ticks\":\"\"},\"colorscale\":[[0.0,\"#0d0887\"],[0.1111111111111111,\"#46039f\"],[0.2222222222222222,\"#7201a8\"],[0.3333333333333333,\"#9c179e\"],[0.4444444444444444,\"#bd3786\"],[0.5555555555555556,\"#d8576b\"],[0.6666666666666666,\"#ed7953\"],[0.7777777777777778,\"#fb9f3a\"],[0.8888888888888888,\"#fdca26\"],[1.0,\"#f0f921\"]]}],\"surface\":[{\"type\":\"surface\",\"colorbar\":{\"outlinewidth\":0,\"ticks\":\"\"},\"colorscale\":[[0.0,\"#0d0887\"],[0.1111111111111111,\"#46039f\"],[0.2222222222222222,\"#7201a8\"],[0.3333333333333333,\"#9c179e\"],[0.4444444444444444,\"#bd3786\"],[0.5555555555555556,\"#d8576b\"],[0.6666666666666666,\"#ed7953\"],[0.7777777777777778,\"#fb9f3a\"],[0.8888888888888888,\"#fdca26\"],[1.0,\"#f0f921\"]]}],\"mesh3d\":[{\"type\":\"mesh3d\",\"colorbar\":{\"outlinewidth\":0,\"ticks\":\"\"}}],\"scatter\":[{\"fillpattern\":{\"fillmode\":\"overlay\",\"size\":10,\"solidity\":0.2},\"type\":\"scatter\"}],\"parcoords\":[{\"type\":\"parcoords\",\"line\":{\"colorbar\":{\"outlinewidth\":0,\"ticks\":\"\"}}}],\"scatterpolargl\":[{\"type\":\"scatterpolargl\",\"marker\":{\"colorbar\":{\"outlinewidth\":0,\"ticks\":\"\"}}}],\"bar\":[{\"error_x\":{\"color\":\"#2a3f5f\"},\"error_y\":{\"color\":\"#2a3f5f\"},\"marker\":{\"line\":{\"color\":\"#E5ECF6\",\"width\":0.5},\"pattern\":{\"fillmode\":\"overlay\",\"size\":10,\"solidity\":0.2}},\"type\":\"bar\"}],\"scattergeo\":[{\"type\":\"scattergeo\",\"marker\":{\"colorbar\":{\"outlinewidth\":0,\"ticks\":\"\"}}}],\"scatterpolar\":[{\"type\":\"scatterpolar\",\"marker\":{\"colorbar\":{\"outlinewidth\":0,\"ticks\":\"\"}}}],\"histogram\":[{\"marker\":{\"pattern\":{\"fillmode\":\"overlay\",\"size\":10,\"solidity\":0.2}},\"type\":\"histogram\"}],\"scattergl\":[{\"type\":\"scattergl\",\"marker\":{\"colorbar\":{\"outlinewidth\":0,\"ticks\":\"\"}}}],\"scatter3d\":[{\"type\":\"scatter3d\",\"line\":{\"colorbar\":{\"outlinewidth\":0,\"ticks\":\"\"}},\"marker\":{\"colorbar\":{\"outlinewidth\":0,\"ticks\":\"\"}}}],\"scattermapbox\":[{\"type\":\"scattermapbox\",\"marker\":{\"colorbar\":{\"outlinewidth\":0,\"ticks\":\"\"}}}],\"scatterternary\":[{\"type\":\"scatterternary\",\"marker\":{\"colorbar\":{\"outlinewidth\":0,\"ticks\":\"\"}}}],\"scattercarpet\":[{\"type\":\"scattercarpet\",\"marker\":{\"colorbar\":{\"outlinewidth\":0,\"ticks\":\"\"}}}],\"carpet\":[{\"aaxis\":{\"endlinecolor\":\"#2a3f5f\",\"gridcolor\":\"white\",\"linecolor\":\"white\",\"minorgridcolor\":\"white\",\"startlinecolor\":\"#2a3f5f\"},\"baxis\":{\"endlinecolor\":\"#2a3f5f\",\"gridcolor\":\"white\",\"linecolor\":\"white\",\"minorgridcolor\":\"white\",\"startlinecolor\":\"#2a3f5f\"},\"type\":\"carpet\"}],\"table\":[{\"cells\":{\"fill\":{\"color\":\"#EBF0F8\"},\"line\":{\"color\":\"white\"}},\"header\":{\"fill\":{\"color\":\"#C8D4E3\"},\"line\":{\"color\":\"white\"}},\"type\":\"table\"}],\"barpolar\":[{\"marker\":{\"line\":{\"color\":\"#E5ECF6\",\"width\":0.5},\"pattern\":{\"fillmode\":\"overlay\",\"size\":10,\"solidity\":0.2}},\"type\":\"barpolar\"}],\"pie\":[{\"automargin\":true,\"type\":\"pie\"}]},\"layout\":{\"autotypenumbers\":\"strict\",\"colorway\":[\"#636efa\",\"#EF553B\",\"#00cc96\",\"#ab63fa\",\"#FFA15A\",\"#19d3f3\",\"#FF6692\",\"#B6E880\",\"#FF97FF\",\"#FECB52\"],\"font\":{\"color\":\"#2a3f5f\"},\"hovermode\":\"closest\",\"hoverlabel\":{\"align\":\"left\"},\"paper_bgcolor\":\"white\",\"plot_bgcolor\":\"#E5ECF6\",\"polar\":{\"bgcolor\":\"#E5ECF6\",\"angularaxis\":{\"gridcolor\":\"white\",\"linecolor\":\"white\",\"ticks\":\"\"},\"radialaxis\":{\"gridcolor\":\"white\",\"linecolor\":\"white\",\"ticks\":\"\"}},\"ternary\":{\"bgcolor\":\"#E5ECF6\",\"aaxis\":{\"gridcolor\":\"white\",\"linecolor\":\"white\",\"ticks\":\"\"},\"baxis\":{\"gridcolor\":\"white\",\"linecolor\":\"white\",\"ticks\":\"\"},\"caxis\":{\"gridcolor\":\"white\",\"linecolor\":\"white\",\"ticks\":\"\"}},\"coloraxis\":{\"colorbar\":{\"outlinewidth\":0,\"ticks\":\"\"}},\"colorscale\":{\"sequential\":[[0.0,\"#0d0887\"],[0.1111111111111111,\"#46039f\"],[0.2222222222222222,\"#7201a8\"],[0.3333333333333333,\"#9c179e\"],[0.4444444444444444,\"#bd3786\"],[0.5555555555555556,\"#d8576b\"],[0.6666666666666666,\"#ed7953\"],[0.7777777777777778,\"#fb9f3a\"],[0.8888888888888888,\"#fdca26\"],[1.0,\"#f0f921\"]],\"sequentialminus\":[[0.0,\"#0d0887\"],[0.1111111111111111,\"#46039f\"],[0.2222222222222222,\"#7201a8\"],[0.3333333333333333,\"#9c179e\"],[0.4444444444444444,\"#bd3786\"],[0.5555555555555556,\"#d8576b\"],[0.6666666666666666,\"#ed7953\"],[0.7777777777777778,\"#fb9f3a\"],[0.8888888888888888,\"#fdca26\"],[1.0,\"#f0f921\"]],\"diverging\":[[0,\"#8e0152\"],[0.1,\"#c51b7d\"],[0.2,\"#de77ae\"],[0.3,\"#f1b6da\"],[0.4,\"#fde0ef\"],[0.5,\"#f7f7f7\"],[0.6,\"#e6f5d0\"],[0.7,\"#b8e186\"],[0.8,\"#7fbc41\"],[0.9,\"#4d9221\"],[1,\"#276419\"]]},\"xaxis\":{\"gridcolor\":\"white\",\"linecolor\":\"white\",\"ticks\":\"\",\"title\":{\"standoff\":15},\"zerolinecolor\":\"white\",\"automargin\":true,\"zerolinewidth\":2},\"yaxis\":{\"gridcolor\":\"white\",\"linecolor\":\"white\",\"ticks\":\"\",\"title\":{\"standoff\":15},\"zerolinecolor\":\"white\",\"automargin\":true,\"zerolinewidth\":2},\"scene\":{\"xaxis\":{\"backgroundcolor\":\"#E5ECF6\",\"gridcolor\":\"white\",\"linecolor\":\"white\",\"showbackground\":true,\"ticks\":\"\",\"zerolinecolor\":\"white\",\"gridwidth\":2},\"yaxis\":{\"backgroundcolor\":\"#E5ECF6\",\"gridcolor\":\"white\",\"linecolor\":\"white\",\"showbackground\":true,\"ticks\":\"\",\"zerolinecolor\":\"white\",\"gridwidth\":2},\"zaxis\":{\"backgroundcolor\":\"#E5ECF6\",\"gridcolor\":\"white\",\"linecolor\":\"white\",\"showbackground\":true,\"ticks\":\"\",\"zerolinecolor\":\"white\",\"gridwidth\":2}},\"shapedefaults\":{\"line\":{\"color\":\"#2a3f5f\"}},\"annotationdefaults\":{\"arrowcolor\":\"#2a3f5f\",\"arrowhead\":0,\"arrowwidth\":1},\"geo\":{\"bgcolor\":\"white\",\"landcolor\":\"#E5ECF6\",\"subunitcolor\":\"white\",\"showland\":true,\"showlakes\":true,\"lakecolor\":\"white\"},\"title\":{\"x\":0.05},\"mapbox\":{\"style\":\"light\"}}},\"margin\":{\"l\":0,\"t\":0,\"b\":0,\"r\":0},\"mapbox\":{\"center\":{\"lon\":-98.35,\"lat\":39.5},\"style\":\"stamen-terrain\",\"zoom\":2}},                        {\"responsive\": true}                    ).then(function(){\n",
       "                            \n",
       "var gd = document.getElementById('2330ee19-d6fd-4b0b-b4aa-5967f5ed890b');\n",
       "var x = new MutationObserver(function (mutations, observer) {{\n",
       "        var display = window.getComputedStyle(gd).display;\n",
       "        if (!display || display === 'none') {{\n",
       "            console.log([gd, 'removed!']);\n",
       "            Plotly.purge(gd);\n",
       "            observer.disconnect();\n",
       "        }}\n",
       "}});\n",
       "\n",
       "// Listen for the removal of the full notebook cells\n",
       "var notebookContainer = gd.closest('#notebook-container');\n",
       "if (notebookContainer) {{\n",
       "    x.observe(notebookContainer, {childList: true});\n",
       "}}\n",
       "\n",
       "// Listen for the clearing of the current output cell\n",
       "var outputEl = gd.closest('.output');\n",
       "if (outputEl) {{\n",
       "    x.observe(outputEl, {childList: true});\n",
       "}}\n",
       "\n",
       "                        })                };                });            </script>        </div>"
      ]
     },
     "metadata": {},
     "output_type": "display_data"
    }
   ],
   "source": [
    "fig = go.Figure(go.Scattermapbox(\n",
    "    mode = \"markers+lines\",\n",
    "    lon = lon_sorted,\n",
    "    lat = lat_sorted,\n",
    "    text = city_sorted,\n",
    "    marker = {'size': 10, 'color' : 'red'}))\n",
    "\n",
    "\n",
    "fig.update_layout(\n",
    "    margin ={'l':0,'t':0,'b':0,'r':0},\n",
    "    mapbox = {\n",
    "        'center': DATA_SET[\"Map_Center\"],\n",
    "        'style': \"stamen-terrain\",\n",
    "        'zoom': DATA_SET[\"Map_ZOOM\"]})\n",
    "\n",
    "\n",
    "fig.show()"
   ]
  },
  {
   "cell_type": "code",
   "execution_count": 76,
   "id": "db47293f",
   "metadata": {},
   "outputs": [
    {
     "data": {
      "text/html": [
       "<div>\n",
       "<style scoped>\n",
       "    .dataframe tbody tr th:only-of-type {\n",
       "        vertical-align: middle;\n",
       "    }\n",
       "\n",
       "    .dataframe tbody tr th {\n",
       "        vertical-align: top;\n",
       "    }\n",
       "\n",
       "    .dataframe thead th {\n",
       "        text-align: right;\n",
       "    }\n",
       "</style>\n",
       "<table border=\"1\" class=\"dataframe\">\n",
       "  <thead>\n",
       "    <tr style=\"text-align: right;\">\n",
       "      <th></th>\n",
       "      <th>City</th>\n",
       "      <th>dist</th>\n",
       "      <th>total Dist</th>\n",
       "    </tr>\n",
       "  </thead>\n",
       "  <tbody>\n",
       "    <tr>\n",
       "      <th>0</th>\n",
       "      <td>Acres Home</td>\n",
       "      <td>0.000000</td>\n",
       "      <td>0.000000</td>\n",
       "    </tr>\n",
       "    <tr>\n",
       "      <th>1</th>\n",
       "      <td>Greater Inwood</td>\n",
       "      <td>4.268316</td>\n",
       "      <td>4.268316</td>\n",
       "    </tr>\n",
       "    <tr>\n",
       "      <th>2</th>\n",
       "      <td>Willowbrook</td>\n",
       "      <td>11.846117</td>\n",
       "      <td>16.114433</td>\n",
       "    </tr>\n",
       "    <tr>\n",
       "      <th>3</th>\n",
       "      <td>Carverdale</td>\n",
       "      <td>10.803096</td>\n",
       "      <td>26.917529</td>\n",
       "    </tr>\n",
       "    <tr>\n",
       "      <th>4</th>\n",
       "      <td>Fairbanks</td>\n",
       "      <td>2.111071</td>\n",
       "      <td>29.028600</td>\n",
       "    </tr>\n",
       "    <tr>\n",
       "      <th>...</th>\n",
       "      <td>...</td>\n",
       "      <td>...</td>\n",
       "      <td>...</td>\n",
       "    </tr>\n",
       "    <tr>\n",
       "      <th>83</th>\n",
       "      <td>Lake Houston</td>\n",
       "      <td>18.798390</td>\n",
       "      <td>360.435842</td>\n",
       "    </tr>\n",
       "    <tr>\n",
       "      <th>84</th>\n",
       "      <td>Kingwood</td>\n",
       "      <td>9.726207</td>\n",
       "      <td>370.162049</td>\n",
       "    </tr>\n",
       "    <tr>\n",
       "      <th>85</th>\n",
       "      <td>IAH Airport</td>\n",
       "      <td>16.101135</td>\n",
       "      <td>386.263184</td>\n",
       "    </tr>\n",
       "    <tr>\n",
       "      <th>86</th>\n",
       "      <td>Greater Greenspoint</td>\n",
       "      <td>9.248832</td>\n",
       "      <td>395.512016</td>\n",
       "    </tr>\n",
       "    <tr>\n",
       "      <th>87</th>\n",
       "      <td>Acres Home</td>\n",
       "      <td>8.079408</td>\n",
       "      <td>403.591424</td>\n",
       "    </tr>\n",
       "  </tbody>\n",
       "</table>\n",
       "<p>88 rows × 3 columns</p>\n",
       "</div>"
      ],
      "text/plain": [
       "                   City       dist  total Dist\n",
       "0            Acres Home   0.000000    0.000000\n",
       "1        Greater Inwood   4.268316    4.268316\n",
       "2           Willowbrook  11.846117   16.114433\n",
       "3            Carverdale  10.803096   26.917529\n",
       "4            Fairbanks    2.111071   29.028600\n",
       "..                  ...        ...         ...\n",
       "83         Lake Houston  18.798390  360.435842\n",
       "84             Kingwood   9.726207  370.162049\n",
       "85          IAH Airport  16.101135  386.263184\n",
       "86  Greater Greenspoint   9.248832  395.512016\n",
       "87           Acres Home   8.079408  403.591424\n",
       "\n",
       "[88 rows x 3 columns]"
      ]
     },
     "execution_count": 76,
     "metadata": {},
     "output_type": "execute_result"
    }
   ],
   "source": [
    "header = ['City', '', 'total Dist']\n",
    "ijdist = np.empty((len(city_sorted)))\n",
    "accDist = np.empty((len(city_sorted)))\n",
    "\n",
    "ijdist[0] = 0\n",
    "accDist[0] = 0\n",
    "\n",
    "for k in range(1, len(sorted_indx)):\n",
    "    i = sorted_indx[k-1]\n",
    "    j = sorted_indx[k]\n",
    "    ijdist[k] = DIST[i,j]\n",
    "    accDist[k] = accDist[k-1] + DIST[i,j]\n",
    "\n",
    "\n",
    "tspDF = pd.DataFrame({'City':city_sorted, 'dist':ijdist, 'total Dist':accDist})\n",
    "tspDF"
   ]
  },
  {
   "cell_type": "code",
   "execution_count": null,
   "id": "5a00607e",
   "metadata": {},
   "outputs": [],
   "source": []
  }
 ],
 "metadata": {
  "kernelspec": {
   "display_name": "Python 3 (ipykernel)",
   "language": "python",
   "name": "python3"
  },
  "language_info": {
   "codemirror_mode": {
    "name": "ipython",
    "version": 3
   },
   "file_extension": ".py",
   "mimetype": "text/x-python",
   "name": "python",
   "nbconvert_exporter": "python",
   "pygments_lexer": "ipython3",
   "version": "3.9.10"
  }
 },
 "nbformat": 4,
 "nbformat_minor": 5
}
